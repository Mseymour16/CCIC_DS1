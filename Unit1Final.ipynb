{
 "cells": [
  {
   "cell_type": "code",
   "execution_count": 64,
   "id": "14b7e090",
   "metadata": {
    "scrolled": true
   },
   "outputs": [
    {
     "name": "stdout",
     "output_type": "stream",
     "text": [
      "[]\n",
      "[]\n",
      "0.0\n"
     ]
    }
   ],
   "source": [
    "#Unsorted Integer\n",
    "\n",
    "import time\n",
    "import random\n",
    "def exchange_sort(a):\n",
    "    n = len(a)\n",
    "    \n",
    "    #outer loop\n",
    "    for i in range(0,n-1):\n",
    "        \n",
    "        #swap if needed\n",
    "        for j in range(i+1,n):\n",
    "            if a[i]>a[j]:\n",
    "                a[i], a[j] = a[j], a[i]\n",
    "\n",
    "a= random.sample(range(0,1000000),0)\n",
    "print(a)\n",
    "x=time.time()\n",
    "exchange_sort(a)\n",
    "y=time.time()\n",
    "print(a)\n",
    "print(y-x)"
   ]
  },
  {
   "cell_type": "code",
   "execution_count": null,
   "id": "e1b32c17",
   "metadata": {
    "scrolled": true
   },
   "outputs": [],
   "source": [
    "#FrontHalf Sort Integer\n",
    "\n",
    "import time\n",
    "import random\n",
    "def exchange_sort(a):\n",
    "    n = len(a)\n",
    "    \n",
    "    #outer loop\n",
    "    for i in range(0,n-1):\n",
    "        \n",
    "        #swap if needed\n",
    "        for j in range(i+1,n):\n",
    "            if a[i]>a[j]:\n",
    "                a[i], a[j] = a[j], a[i]\n",
    "\n",
    "#list1=[*range(1,65537,1)]\n",
    "#list2=random.sample(range(65537,1000000),65536)\n",
    "\n",
    "a= list1 + list2\n",
    "print(a)\n",
    "x=time.time()\n",
    "exchange_sort(a)\n",
    "y=time.time()\n",
    "print(a)\n",
    "print(y-x)"
   ]
  },
  {
   "cell_type": "code",
   "execution_count": 1,
   "id": "0bb28de8",
   "metadata": {
    "scrolled": true
   },
   "outputs": [
    {
     "ename": "NameError",
     "evalue": "name 'list1' is not defined",
     "output_type": "error",
     "traceback": [
      "\u001b[1;31m---------------------------------------------------------------------------\u001b[0m",
      "\u001b[1;31mNameError\u001b[0m                                 Traceback (most recent call last)",
      "Input \u001b[1;32mIn [1]\u001b[0m, in \u001b[0;36m<cell line: 19>\u001b[1;34m()\u001b[0m\n\u001b[0;32m     14\u001b[0m                 a[i], a[j] \u001b[38;5;241m=\u001b[39m a[j], a[i]\n\u001b[0;32m     16\u001b[0m \u001b[38;5;66;03m#list1=random.sample(range(1,32769),32768)\u001b[39;00m\n\u001b[0;32m     17\u001b[0m \u001b[38;5;66;03m#list2=[*range(32769,65537,1)]\u001b[39;00m\n\u001b[1;32m---> 19\u001b[0m a\u001b[38;5;241m=\u001b[39m \u001b[43mlist1\u001b[49m \u001b[38;5;241m+\u001b[39m list2\n\u001b[0;32m     20\u001b[0m \u001b[38;5;28mprint\u001b[39m(a)\n\u001b[0;32m     21\u001b[0m x\u001b[38;5;241m=\u001b[39mtime\u001b[38;5;241m.\u001b[39mtime()\n",
      "\u001b[1;31mNameError\u001b[0m: name 'list1' is not defined"
     ]
    }
   ],
   "source": [
    "#BackHalf Sort Integer\n",
    "\n",
    "import time\n",
    "import random\n",
    "def exchange_sort(a):\n",
    "    n = len(a)\n",
    "    \n",
    "    #outer loop\n",
    "    for i in range(0,n-1):\n",
    "        \n",
    "        #swap if needed\n",
    "        for j in range(i+1,n):\n",
    "            if a[i]>a[j]:\n",
    "                a[i], a[j] = a[j], a[i]\n",
    "\n",
    "#list1=random.sample(range(1,32769),32768)\n",
    "#list2=[*range(32769,65537,1)]\n",
    "\n",
    "a= list1 + list2\n",
    "print(a)\n",
    "x=time.time()\n",
    "exchange_sort(a)\n",
    "y=time.time()\n",
    "print(a)\n",
    "print(y-x)"
   ]
  },
  {
   "cell_type": "code",
   "execution_count": 99,
   "id": "99617708",
   "metadata": {
    "scrolled": true
   },
   "outputs": [
    {
     "name": "stdout",
     "output_type": "stream",
     "text": [
      "<class 'float'>\n",
      "[937879.76, 406355.56, -87248.15]\n",
      "[-87248.15, 406355.56, 937879.76]\n",
      "0.0\n"
     ]
    }
   ],
   "source": [
    "#Unsorted Float\n",
    "\n",
    "import time\n",
    "import random\n",
    "def exchange_sort(a):\n",
    "    n = len(a)\n",
    "    \n",
    "    #outer loop\n",
    "    for i in range(0,n-1):\n",
    "        \n",
    "        #swap if needed\n",
    "        for j in range(i+1,n):\n",
    "            if a[i]>a[j]:\n",
    "                a[i], a[j] = a[j], a[i]\n",
    "\n",
    "a = []\n",
    "\n",
    "for i in range(0, 3):\n",
    "    z = round(random.uniform(-1000000.0, 1000000.0), 2)\n",
    "    a.append(z)\n",
    "print(type(z))\n",
    "print(a)\n",
    "x=time.time()\n",
    "exchange_sort(a)\n",
    "y=time.time()\n",
    "print(a)\n",
    "print(y-x)"
   ]
  },
  {
   "cell_type": "code",
   "execution_count": 174,
   "id": "8a40a437",
   "metadata": {},
   "outputs": [
    {
     "name": "stdout",
     "output_type": "stream",
     "text": [
      "[887697.85, 367997.35, 954314.61, 249792.63, 296205.98, 9895.04, 455839.01, 130445.85]\n",
      " \n",
      "[249792.63, 367997.35, 887697.85, 954314.61, 296205.98, 9895.04, 455839.01, 130445.85]\n",
      "0.0\n"
     ]
    }
   ],
   "source": [
    "#FrontHalf Sort Float\n",
    "\n",
    "import time\n",
    "import random\n",
    "import decimal\n",
    "\n",
    "def exchange_sort(a, n):\n",
    "    \n",
    "    #outer loop\n",
    "    for i in range(0,n-1):\n",
    "        \n",
    "        #swap if needed\n",
    "        for j in range(i+1,n):\n",
    "            if a[i]>a[j]:\n",
    "                a[i], a[j] = a[j], a[i]\n",
    "\n",
    "a=[]\n",
    "                \n",
    "for i in range(0,8):\n",
    "    x = round(random.uniform(-100000.0,1000000.0),2)\n",
    "    a.append(x)\n",
    "n = len(a)\n",
    "    \n",
    "print(a)\n",
    "x=time.time()\n",
    "exchange_sort(a, n//2)\n",
    "y=time.time()\n",
    "print(\" \")\n",
    "print(a)\n",
    "print(y-x)"
   ]
  },
  {
   "cell_type": "code",
   "execution_count": 161,
   "id": "26b14446",
   "metadata": {},
   "outputs": [
    {
     "name": "stdout",
     "output_type": "stream",
     "text": [
      "740\n"
     ]
    }
   ],
   "source": [
    "import tracemalloc\n",
    "import random\n",
    "\n",
    "temp = random.sample(range(-1000000, 1000000), 2 ** 1)\n",
    "tracemalloc.start()\n",
    "x1, y1 = tracemalloc.get_traced_memory() # (current, peak)\n",
    "temp.sort()\n",
    "x2, y2 = tracemalloc.get_traced_memory()\n",
    "tracemalloc.stop()\n",
    "print(y2 - y1)"
   ]
  },
  {
   "cell_type": "code",
   "execution_count": 40,
   "id": "bfdd0091",
   "metadata": {},
   "outputs": [
    {
     "name": "stdout",
     "output_type": "stream",
     "text": [
      "11442\n"
     ]
    }
   ],
   "source": [
    "import tracemalloc\n",
    "import random\n",
    "\n",
    "temp = random.sample(range(-1000000, 1000000), 2 ** 1)\n",
    "tracemalloc.start()\n",
    "temp.sort()\n",
    "x1, y1 = tracemalloc.get_traced_memory() # (current, peak)\n",
    "tracemalloc.stop()\n",
    "print(y1)"
   ]
  },
  {
   "cell_type": "code",
   "execution_count": 178,
   "id": "9561e4c7",
   "metadata": {},
   "outputs": [
    {
     "name": "stdout",
     "output_type": "stream",
     "text": [
      "[939382.66, 83977.57, 629197.49, 476216.48, 512317.92, 651420.86, 817556.88, 344516.07]\n",
      " \n",
      "[939382.66, 83977.57, 629197.49, 476216.48, 344516.07, 512317.92, 651420.86, 817556.88]\n",
      "0.0\n"
     ]
    }
   ],
   "source": [
    "#BackHalf Sort Float\n",
    "\n",
    "import time\n",
    "import random\n",
    "import decimal\n",
    "\n",
    "def exchange_sort(a):\n",
    "    \n",
    "    #outer loop\n",
    "    for i in range(n//2,n):\n",
    "        \n",
    "        #swap if needed\n",
    "        for j in range(i+1,n):\n",
    "            if a[i]>a[j]:\n",
    "                a[i], a[j] = a[j], a[i]\n",
    "\n",
    "a=[]\n",
    "                \n",
    "for i in range(0,8):\n",
    "    x = round(random.uniform(-100000.0,1000000.0),2)\n",
    "    a.append(x)\n",
    "n = len(a)\n",
    "    \n",
    "print(a)\n",
    "x=time.time()\n",
    "exchange_sort(a)\n",
    "y=time.time()\n",
    "print(\" \")\n",
    "print(a)\n",
    "print(y-x)"
   ]
  },
  {
   "cell_type": "code",
   "execution_count": null,
   "id": "ddfe6033",
   "metadata": {},
   "outputs": [],
   "source": []
  },
  {
   "cell_type": "code",
   "execution_count": null,
   "id": "98f12cdf",
   "metadata": {},
   "outputs": [],
   "source": []
  },
  {
   "cell_type": "code",
   "execution_count": null,
   "id": "bdcb84f3",
   "metadata": {},
   "outputs": [],
   "source": []
  }
 ],
 "metadata": {
  "kernelspec": {
   "display_name": "Python 3 (ipykernel)",
   "language": "python",
   "name": "python3"
  },
  "language_info": {
   "codemirror_mode": {
    "name": "ipython",
    "version": 3
   },
   "file_extension": ".py",
   "mimetype": "text/x-python",
   "name": "python",
   "nbconvert_exporter": "python",
   "pygments_lexer": "ipython3",
   "version": "3.9.12"
  }
 },
 "nbformat": 4,
 "nbformat_minor": 5
}
