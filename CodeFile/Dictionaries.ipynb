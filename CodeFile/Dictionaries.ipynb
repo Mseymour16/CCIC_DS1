{
 "cells": [
  {
   "cell_type": "code",
   "execution_count": 1,
   "id": "bb8312f2",
   "metadata": {},
   "outputs": [],
   "source": [
    "week={\"Mon\": [\"Physics HW\"],\n",
    "      \"Tues\": [\"English HW\",\"APUSH HW\"],\n",
    "      \"Wed\": [\"Physics HW\",\"Work\"],\n",
    "      \"Thurs\": [\"English HW\",\"APUSH HW\"],\n",
    "      \"Fri\": [\"Physics HW\",\"Football Game\"],\n",
    "      \"Sat\": [\"Go shopping\"],\n",
    "      \"Sun\": [\"Sleep\"]}"
   ]
  },
  {
   "cell_type": "code",
   "execution_count": 7,
   "id": "79cf5db7",
   "metadata": {},
   "outputs": [
    {
     "name": "stdout",
     "output_type": "stream",
     "text": [
      "Enter a Day: Fri\n",
      "['Physics HW', 'Football Game']\n"
     ]
    }
   ],
   "source": [
    "items=input(\"Enter a Day: \")\n",
    "print(week[items])\n"
   ]
  },
  {
   "cell_type": "code",
   "execution_count": 10,
   "id": "a1d4d999",
   "metadata": {},
   "outputs": [
    {
     "name": "stdout",
     "output_type": "stream",
     "text": [
      "234\n"
     ]
    }
   ],
   "source": [
    "DataTable={\"date\":[\"2001-08-01\",\"2001-08-02\",\"2001-08-03\",\"2001-08-04\",\"2001-08-05\",\"2001-08-06\",\"2001-08-07\"],\n",
    "          \"dayname\": [\"Wed\",\"Thurs\",\"Fri\",\"Sat\",\"Sun\",\"Sun\",\"Mon\",\"Tues\"],\n",
    "          \"red\": [50,60,51,79,77,93,55],\n",
    "          \"green\": [25,31,24,21,39,40,32],\n",
    "          \"blue\" : [71,53,50,69,57,66,63]}"
   ]
  },
  {
   "cell_type": "code",
   "execution_count": 11,
   "id": "25a29118",
   "metadata": {},
   "outputs": [],
   "source": [
    "DataTable[\"date\"]=[\"2001-08-01\",\"2001-08-02\",\"2001-08-03\",\"2001-08-04\",\"2001-08-05\",\"2001-08-06\",\"2001-08-07\",\"2001-08-08\"]\n",
    "DataTable[\"dayname\"]=[\"Wed\",\"Thurs\",\"Fri\",\"Sat\",\"Sun\",\"Sun\",\"Mon\",\"Tues\",\"Wed\"]\n",
    "DataTable[\"red\"]=[50,60,51,79,77,93,55,87]\n",
    "DataTable[\"green\"]=[25,31,24,21,39,40,32,89]\n",
    "DataTable[\"blue\"]=[71,53,50,69,57,66,63,1]"
   ]
  },
  {
   "cell_type": "code",
   "execution_count": null,
   "id": "38898a00",
   "metadata": {},
   "outputs": [],
   "source": [
    "del DataTable[\"date\"]"
   ]
  },
  {
   "cell_type": "code",
   "execution_count": null,
   "id": "557d617d",
   "metadata": {},
   "outputs": [],
   "source": []
  }
 ],
 "metadata": {
  "kernelspec": {
   "display_name": "Python 3 (ipykernel)",
   "language": "python",
   "name": "python3"
  },
  "language_info": {
   "codemirror_mode": {
    "name": "ipython",
    "version": 3
   },
   "file_extension": ".py",
   "mimetype": "text/x-python",
   "name": "python",
   "nbconvert_exporter": "python",
   "pygments_lexer": "ipython3",
   "version": "3.9.12"
  }
 },
 "nbformat": 4,
 "nbformat_minor": 5
}
