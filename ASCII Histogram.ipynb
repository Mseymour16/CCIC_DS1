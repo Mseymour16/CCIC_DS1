{
 "cells": [
  {
   "cell_type": "code",
   "execution_count": 93,
   "id": "e742b1dd",
   "metadata": {},
   "outputs": [],
   "source": [
    "Survey2 =['red',\"red\",\"red\",\"red\",\"orange\",\"yellow\",\"green\",\"green\",\"green\",\n",
    "         \"blue\",\"blue\",\"blue\",\"blue\",\"purple\",\"purple\",\"purple\",\"12th\",\"12th\",\n",
    "         \"12th\",\"12th\",\"12th\",\"12th\",\"12th\",\"12th\",\"12th\",\"11th\",\"11th\",\"11th\",\n",
    "          \"10th\",\"10th\",\"10th\",\"10th\"]"
   ]
  },
  {
   "cell_type": "code",
   "execution_count": 94,
   "id": "19439669",
   "metadata": {},
   "outputs": [
    {
     "name": "stdout",
     "output_type": "stream",
     "text": [
      "10th: ****\n",
      "11th: ***\n",
      "12th: *********\n",
      "blue: ****\n",
      "green: ***\n",
      "orange: *\n",
      "purple: ***\n",
      "red: ****\n",
      "yellow: *\n"
     ]
    }
   ],
   "source": [
    "from collections import Counter\n",
    "counts = Counter(Survey2)\n",
    "width = 17\n",
    "longest_key=max(len(key) for key in counts)\n",
    "graph_width = width - longest_key - 2\n",
    "widest = counts.most_common(1)[0][1]\n",
    "scale = graph_width / float(widest)\n",
    "for key, size in sorted(counts.items()):\n",
    "    print('{}: {}'.format(key, int(size * scale) * '*'))"
   ]
  },
  {
   "cell_type": "code",
   "execution_count": null,
   "id": "61289720",
   "metadata": {},
   "outputs": [],
   "source": []
  }
 ],
 "metadata": {
  "kernelspec": {
   "display_name": "Python 3 (ipykernel)",
   "language": "python",
   "name": "python3"
  },
  "language_info": {
   "codemirror_mode": {
    "name": "ipython",
    "version": 3
   },
   "file_extension": ".py",
   "mimetype": "text/x-python",
   "name": "python",
   "nbconvert_exporter": "python",
   "pygments_lexer": "ipython3",
   "version": "3.9.12"
  }
 },
 "nbformat": 4,
 "nbformat_minor": 5
}
