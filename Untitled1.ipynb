{
 "cells": [
  {
   "cell_type": "code",
   "execution_count": 20,
   "id": "5cebca1a",
   "metadata": {},
   "outputs": [
    {
     "name": "stdout",
     "output_type": "stream",
     "text": [
      "\n"
     ]
    }
   ],
   "source": [
    "DNA=\"T\"\n",
    "\n",
    "def toRNA(DNA):\n",
    "    RNA=\"\"\n",
    "    for x in DNA:\n",
    "        if x == \"A\":\n",
    "            RNA=RNA + \"U\"\n",
    "    for y in DNA:\n",
    "        if x == \"T\":\n",
    "            RNA=RNA + \"T\"\n",
    "    for z in DNA:\n",
    "        if x == \"G\":\n",
    "            RNA=RNA + \"C\"\n",
    "    for s in DNA:\n",
    "        if x == \"C\":\n",
    "            RNA=RNA + \"G\"\n",
    "    return RNA\n",
    "print(solution(DNA))"
   ]
  },
  {
   "cell_type": "code",
   "execution_count": 52,
   "id": "04a001cb",
   "metadata": {},
   "outputs": [
    {
     "name": "stdout",
     "output_type": "stream",
     "text": [
      "fw"
     ]
    }
   ],
   "source": [
    "#checking if letter is not in a string\n",
    "def sortABC(alp):\n",
    "    normalA=\"abcdefghijklmnopqrstuvwxyz\"#our normal alphabet that the for loop scans\n",
    "    \n",
    "    for letter in normalA:\n",
    "        if letter not in alp:        #if the argument isnt in alphabet it prints the other letters excluding the argument\n",
    "            print(letter, end=\"\")\n",
    "\n",
    "sortABC(\"abcdefghijklmnopqrstuvwxyz\")"
   ]
  },
  {
   "cell_type": "code",
   "execution_count": 69,
   "id": "e7ae116a",
   "metadata": {},
   "outputs": [
    {
     "name": "stdout",
     "output_type": "stream",
     "text": [
      "4\n"
     ]
    }
   ],
   "source": [
    "binary=[1,0,0]\n",
    "\n",
    "def convert(binaryNum):\n",
    "    powers=[1,2,4,8,16,32,64,128,256]\n",
    "    decNum=0\n",
    "    value = 0\n",
    "    for bit in range(len(binaryNum)-1,-1,-1):\n",
    "        decNum=decNum+binaryNum[bit]*powers[value]\n",
    "        value=value+1\n",
    "        \n",
    "    return decNum\n",
    "\n",
    "print(convert(binary))"
   ]
  },
  {
   "cell_type": "code",
   "execution_count": 71,
   "id": "c374aff9",
   "metadata": {},
   "outputs": [
    {
     "name": "stdout",
     "output_type": "stream",
     "text": [
      "True\n",
      "None\n"
     ]
    }
   ],
   "source": [
    "def search (values,target):\n",
    "    print(True)\n",
    "    \n",
    "x=[9,4,-1]\n",
    "print(search(x,3))"
   ]
  },
  {
   "cell_type": "code",
   "execution_count": 2,
   "id": "4d9d65fe",
   "metadata": {},
   "outputs": [
    {
     "name": "stdout",
     "output_type": "stream",
     "text": [
      "[14, 3]\n",
      "[3, 3]\n"
     ]
    }
   ],
   "source": [
    "def unknown(values):\n",
    "    n=len(values)\n",
    "    for i in range(n-1):\n",
    "        for j in range(0, n-i-1):\n",
    "            if values[j] > values[j+1]:\n",
    "                values[j]=values[j+1]\n",
    "                values[j+1]=values[j]\n",
    "    \n",
    "x=[14,3]\n",
    "print(x)\n",
    "unknown(x)\n",
    "print(x)"
   ]
  },
  {
   "cell_type": "code",
   "execution_count": null,
   "id": "064c3660",
   "metadata": {},
   "outputs": [],
   "source": []
  }
 ],
 "metadata": {
  "kernelspec": {
   "display_name": "Python 3 (ipykernel)",
   "language": "python",
   "name": "python3"
  },
  "language_info": {
   "codemirror_mode": {
    "name": "ipython",
    "version": 3
   },
   "file_extension": ".py",
   "mimetype": "text/x-python",
   "name": "python",
   "nbconvert_exporter": "python",
   "pygments_lexer": "ipython3",
   "version": "3.9.12"
  }
 },
 "nbformat": 4,
 "nbformat_minor": 5
}
