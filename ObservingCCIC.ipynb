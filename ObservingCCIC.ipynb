{
 "cells": [
  {
   "cell_type": "code",
   "execution_count": 34,
   "id": "58a3ac1e",
   "metadata": {},
   "outputs": [],
   "source": [
    "parkingCount= [[\"Front Curve:\",\"First Pod:\",\"Second Pod:\",\"Third Pod:\",\"Back Area:\",\"Total:\"],\n",
    "               [28,27,14,10,23,102]]\n"
   ]
  },
  {
   "cell_type": "code",
   "execution_count": 56,
   "id": "e22a7713",
   "metadata": {},
   "outputs": [
    {
     "name": "stdout",
     "output_type": "stream",
     "text": [
      "Front Curve:\n",
      "28\n",
      "First Pod:\n",
      "27\n",
      "Second Pod:\n",
      "14\n",
      "Third Pod:\n",
      "10\n",
      "Back Area:\n",
      "23\n",
      "Total:\n",
      "102\n"
     ]
    }
   ],
   "source": [
    "print(parkingCount[0][0],parkingCount[1][0],parkingCount[0][1],parkingCount[1][1],\n",
    "      parkingCount[0][2],parkingCount[1][2],parkingCount[0][3],parkingCount[1][3],\n",
    "      parkingCount[0][4],parkingCount[1][4],parkingCount[0][5],parkingCount[1][5],sep=\"\\n\")"
   ]
  },
  {
   "cell_type": "code",
   "execution_count": 32,
   "id": "66602cf4",
   "metadata": {},
   "outputs": [
    {
     "name": "stdout",
     "output_type": "stream",
     "text": [
      "Front Curve Percentage: 27.5%\n",
      "First Pod Percentage: 26.5%\n",
      "Second Pod Percentage: 13.7%\n",
      "Third Pod Percentage: 9.8%\n",
      "Back Area Percentage: 22.5%\n",
      " \n",
      "Total Percentage: 100.0%\n"
     ]
    }
   ],
   "source": [
    "FC= (28/102)\n",
    "P1= (27/102)\n",
    "P2= (14/102)\n",
    "P3= (10/102)\n",
    "BA= (23/102)\n",
    "T= FC+P1+P2+P3+BA\n",
    "print(\"Front Curve Percentage: \"+\"%.1f%%\" % (100 * FC))\n",
    "print(\"First Pod Percentage: \"+\"%.1f%%\" % (100 * P1))\n",
    "print(\"Second Pod Percentage: \"+\"%.1f%%\" % (100 * P2))\n",
    "print(\"Third Pod Percentage: \"+\"%.1f%%\" % (100 * P3))\n",
    "print(\"Back Area Percentage: \"+\"%.1f%%\" % (100 * BA))\n",
    "print(\" \")\n",
    "print(\"Total Percentage: \"+\"%.1f%%\" % (100 * T))"
   ]
  },
  {
   "cell_type": "code",
   "execution_count": null,
   "id": "c9f76a63",
   "metadata": {},
   "outputs": [],
   "source": []
  },
  {
   "cell_type": "code",
   "execution_count": null,
   "id": "6dcda360",
   "metadata": {},
   "outputs": [],
   "source": []
  }
 ],
 "metadata": {
  "kernelspec": {
   "display_name": "Python 3 (ipykernel)",
   "language": "python",
   "name": "python3"
  },
  "language_info": {
   "codemirror_mode": {
    "name": "ipython",
    "version": 3
   },
   "file_extension": ".py",
   "mimetype": "text/x-python",
   "name": "python",
   "nbconvert_exporter": "python",
   "pygments_lexer": "ipython3",
   "version": "3.9.12"
  }
 },
 "nbformat": 4,
 "nbformat_minor": 5
}
