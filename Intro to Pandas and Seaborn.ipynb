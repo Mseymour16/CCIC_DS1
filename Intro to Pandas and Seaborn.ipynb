{
 "cells": [
  {
   "cell_type": "code",
   "execution_count": 34,
   "id": "e71891bc",
   "metadata": {},
   "outputs": [
    {
     "name": "stdout",
     "output_type": "stream",
     "text": [
      "                                      name mfr type  calories  protein  fat  sodium  fiber  carbo  sugars  potass  vitamins  shelf  weight  cups     rating\n",
      "0                                100% Bran   N    C        70        4    1     130   10.0    5.0       6     280        25      3    1.00  0.33  68.402973\n",
      "1                        100% Natural Bran   Q    C       120        3    5      15    2.0    8.0       8     135         0      3    1.00  1.00  33.983679\n",
      "2                                 All-Bran   K    C        70        4    1     260    9.0    7.0       5     320        25      3    1.00  0.33  59.425505\n",
      "3                All-Bran with Extra Fiber   K    C        50        4    0     140   14.0    8.0       0     330        25      3    1.00  0.50  93.704912\n",
      "4                           Almond Delight   R    C       110        2    2     200    1.0   14.0       8      -1        25      3    1.00  0.75  34.384843\n",
      "5                  Apple Cinnamon Cheerios   G    C       110        2    2     180    1.5   10.5      10      70        25      1    1.00  0.75  29.509541\n",
      "6                              Apple Jacks   K    C       110        2    0     125    1.0   11.0      14      30        25      2    1.00  1.00  33.174094\n",
      "7                                  Basic 4   G    C       130        3    2     210    2.0   18.0       8     100        25      3    1.33  0.75  37.038562\n",
      "8                                Bran Chex   R    C        90        2    1     200    4.0   15.0       6     125        25      1    1.00  0.67  49.120253\n",
      "9                              Bran Flakes   P    C        90        3    0     210    5.0   13.0       5     190        25      3    1.00  0.67  53.313813\n",
      "10                            Cap'n'Crunch   Q    C       120        1    2     220    0.0   12.0      12      35        25      2    1.00  0.75  18.042851\n",
      "11                                Cheerios   G    C       110        6    2     290    2.0   17.0       1     105        25      1    1.00  1.25  50.764999\n",
      "12                   Cinnamon Toast Crunch   G    C       120        1    3     210    0.0   13.0       9      45        25      2    1.00  0.75  19.823573\n",
      "13                                Clusters   G    C       110        3    2     140    2.0   13.0       7     105        25      3    1.00  0.50  40.400208\n",
      "14                             Cocoa Puffs   G    C       110        1    1     180    0.0   12.0      13      55        25      2    1.00  1.00  22.736446\n",
      "15                               Corn Chex   R    C       110        2    0     280    0.0   22.0       3      25        25      1    1.00  1.00  41.445019\n",
      "16                             Corn Flakes   K    C       100        2    0     290    1.0   21.0       2      35        25      1    1.00  1.00  45.863324\n",
      "17                               Corn Pops   K    C       110        1    0      90    1.0   13.0      12      20        25      2    1.00  1.00  35.782791\n",
      "18                           Count Chocula   G    C       110        1    1     180    0.0   12.0      13      65        25      2    1.00  1.00  22.396513\n",
      "19                      Cracklin' Oat Bran   K    C       110        3    3     140    4.0   10.0       7     160        25      3    1.00  0.50  40.448772\n",
      "20                  Cream of Wheat (Quick)   N    H       100        3    0      80    1.0   21.0       0      -1         0      2    1.00  1.00  64.533816\n",
      "21                                 Crispix   K    C       110        2    0     220    1.0   21.0       3      30        25      3    1.00  1.00  46.895644\n",
      "22                  Crispy Wheat & Raisins   G    C       100        2    1     140    2.0   11.0      10     120        25      3    1.00  0.75  36.176196\n",
      "23                             Double Chex   R    C       100        2    0     190    1.0   18.0       5      80        25      3    1.00  0.75  44.330856\n",
      "24                             Froot Loops   K    C       110        2    1     125    1.0   11.0      13      30        25      2    1.00  1.00  32.207582\n",
      "25                          Frosted Flakes   K    C       110        1    0     200    1.0   14.0      11      25        25      1    1.00  0.75  31.435973\n",
      "26                     Frosted Mini-Wheats   K    C       100        3    0       0    3.0   14.0       7     100        25      2    1.00  0.80  58.345141\n",
      "27  Fruit & Fibre Dates; Walnuts; and Oats   P    C       120        3    2     160    5.0   12.0      10     200        25      3    1.25  0.67  40.917047\n",
      "28                           Fruitful Bran   K    C       120        3    0     240    5.0   14.0      12     190        25      3    1.33  0.67  41.015492\n",
      "29                          Fruity Pebbles   P    C       110        1    1     135    0.0   13.0      12      25        25      2    1.00  0.75  28.025765\n",
      "30                            Golden Crisp   P    C       100        2    0      45    0.0   11.0      15      40        25      1    1.00  0.88  35.252444\n",
      "31                          Golden Grahams   G    C       110        1    1     280    0.0   15.0       9      45        25      2    1.00  0.75  23.804043\n",
      "32                       Grape Nuts Flakes   P    C       100        3    1     140    3.0   15.0       5      85        25      3    1.00  0.88  52.076897\n",
      "33                              Grape-Nuts   P    C       110        3    0     170    3.0   17.0       3      90        25      3    1.00  0.25  53.371007\n",
      "34                      Great Grains Pecan   P    C       120        3    3      75    3.0   13.0       4     100        25      3    1.00  0.33  45.811716\n",
      "35                        Honey Graham Ohs   Q    C       120        1    2     220    1.0   12.0      11      45        25      2    1.00  1.00  21.871292\n",
      "36                      Honey Nut Cheerios   G    C       110        3    1     250    1.5   11.5      10      90        25      1    1.00  0.75  31.072217\n",
      "37                              Honey-comb   P    C       110        1    0     180    0.0   14.0      11      35        25      1    1.00  1.33  28.742414\n",
      "38             Just Right Crunchy  Nuggets   K    C       110        2    1     170    1.0   17.0       6      60       100      3    1.00  1.00  36.523683\n",
      "39                  Just Right Fruit & Nut   K    C       140        3    1     170    2.0   20.0       9      95       100      3    1.30  0.75  36.471512\n",
      "40                                     Kix   G    C       110        2    1     260    0.0   21.0       3      40        25      2    1.00  1.50  39.241114\n",
      "41                                    Life   Q    C       100        4    2     150    2.0   12.0       6      95        25      2    1.00  0.67  45.328074\n",
      "42                            Lucky Charms   G    C       110        2    1     180    0.0   12.0      12      55        25      2    1.00  1.00  26.734515\n",
      "43                                   Maypo   A    H       100        4    1       0    0.0   16.0       3      95        25      2    1.00  1.00  54.850917\n",
      "44        Muesli Raisins; Dates; & Almonds   R    C       150        4    3      95    3.0   16.0      11     170        25      3    1.00  1.00  37.136863\n",
      "45       Muesli Raisins; Peaches; & Pecans   R    C       150        4    3     150    3.0   16.0      11     170        25      3    1.00  1.00  34.139765\n",
      "46                    Mueslix Crispy Blend   K    C       160        3    2     150    3.0   17.0      13     160        25      3    1.50  0.67  30.313351\n",
      "47                    Multi-Grain Cheerios   G    C       100        2    1     220    2.0   15.0       6      90        25      1    1.00  1.00  40.105965\n",
      "48                        Nut&Honey Crunch   K    C       120        2    1     190    0.0   15.0       9      40        25      2    1.00  0.67  29.924285\n",
      "49               Nutri-Grain Almond-Raisin   K    C       140        3    2     220    3.0   21.0       7     130        25      3    1.33  0.67  40.692320\n",
      "50                       Nutri-grain Wheat   K    C        90        3    0     170    3.0   18.0       2      90        25      3    1.00  1.00  59.642837\n",
      "51                    Oatmeal Raisin Crisp   G    C       130        3    2     170    1.5   13.5      10     120        25      3    1.25  0.50  30.450843\n",
      "52                   Post Nat. Raisin Bran   P    C       120        3    1     200    6.0   11.0      14     260        25      3    1.33  0.67  37.840594\n",
      "53                              Product 19   K    C       100        3    0     320    1.0   20.0       3      45       100      3    1.00  1.00  41.503540\n",
      "54                             Puffed Rice   Q    C        50        1    0       0    0.0   13.0       0      15         0      3    0.50  1.00  60.756112\n",
      "55                            Puffed Wheat   Q    C        50        2    0       0    1.0   10.0       0      50         0      3    0.50  1.00  63.005645\n",
      "56                      Quaker Oat Squares   Q    C       100        4    1     135    2.0   14.0       6     110        25      3    1.00  0.50  49.511874\n",
      "57                          Quaker Oatmeal   Q    H       100        5    2       0    2.7   -1.0      -1     110         0      1    1.00  0.67  50.828392\n",
      "58                             Raisin Bran   K    C       120        3    1     210    5.0   14.0      12     240        25      2    1.33  0.75  39.259197\n",
      "59                         Raisin Nut Bran   G    C       100        3    2     140    2.5   10.5       8     140        25      3    1.00  0.50  39.703400\n",
      "60                          Raisin Squares   K    C        90        2    0       0    2.0   15.0       6     110        25      3    1.00  0.50  55.333142\n",
      "61                               Rice Chex   R    C       110        1    0     240    0.0   23.0       2      30        25      1    1.00  1.13  41.998933\n",
      "62                           Rice Krispies   K    C       110        2    0     290    0.0   22.0       3      35        25      1    1.00  1.00  40.560159\n",
      "63                          Shredded Wheat   N    C        80        2    0       0    3.0   16.0       0      95         0      1    0.83  1.00  68.235885\n",
      "64                  Shredded Wheat 'n'Bran   N    C        90        3    0       0    4.0   19.0       0     140         0      1    1.00  0.67  74.472949\n",
      "65               Shredded Wheat spoon size   N    C        90        3    0       0    3.0   20.0       0     120         0      1    1.00  0.67  72.801787\n",
      "66                                  Smacks   K    C       110        2    1      70    1.0    9.0      15      40        25      2    1.00  0.75  31.230054\n",
      "67                               Special K   K    C       110        6    0     230    1.0   16.0       3      55        25      1    1.00  1.00  53.131324\n",
      "68                 Strawberry Fruit Wheats   N    C        90        2    0      15    3.0   15.0       5      90        25      2    1.00  1.00  59.363993\n",
      "69                       Total Corn Flakes   G    C       110        2    1     200    0.0   21.0       3      35       100      3    1.00  1.00  38.839746\n",
      "70                       Total Raisin Bran   G    C       140        3    1     190    4.0   15.0      14     230       100      3    1.50  1.00  28.592785\n",
      "71                       Total Whole Grain   G    C       100        3    1     200    3.0   16.0       3     110       100      3    1.00  1.00  46.658844\n",
      "72                                 Triples   G    C       110        2    1     250    0.0   21.0       3      60        25      3    1.00  0.75  39.106174\n",
      "73                                    Trix   G    C       110        1    1     140    0.0   13.0      12      25        25      2    1.00  1.00  27.753301\n",
      "74                              Wheat Chex   R    C       100        3    1     230    3.0   17.0       3     115        25      1    1.00  0.67  49.787445\n",
      "75                                Wheaties   G    C       100        3    1     200    3.0   17.0       3     110        25      1    1.00  1.00  51.592193\n",
      "76                     Wheaties Honey Gold   G    C       110        2    1     200    1.0   16.0       8      60        25      1    1.00  0.75  36.187559\n"
     ]
    }
   ],
   "source": [
    "#All Raw Data\n",
    "import pandas as pd\n",
    "import seaborn as sbn\n",
    "import matplotlib.pyplot as plt\n",
    "\n",
    "df = pd.read_csv('cereal.csv')\n",
    "print(df.to_string())"
   ]
  },
  {
   "cell_type": "code",
   "execution_count": 35,
   "id": "4e8ace64",
   "metadata": {},
   "outputs": [
    {
     "data": {
      "text/plain": [
       "False"
      ]
     },
     "execution_count": 35,
     "metadata": {},
     "output_type": "execute_result"
    }
   ],
   "source": [
    "#identifying any null values(missing data)\n",
    "df.isnull().values.any()"
   ]
  },
  {
   "cell_type": "code",
   "execution_count": 49,
   "id": "bec066af",
   "metadata": {},
   "outputs": [
    {
     "name": "stdout",
     "output_type": "stream",
     "text": [
      "    sugars     rating\n",
      "0        6  68.402973\n",
      "1        8  33.983679\n",
      "2        5  59.425505\n",
      "3        0  93.704912\n",
      "4        8  34.384843\n",
      "5       10  29.509541\n",
      "6       14  33.174094\n",
      "7        8  37.038562\n",
      "8        6  49.120253\n",
      "9        5  53.313813\n",
      "10      12  18.042851\n",
      "11       1  50.764999\n",
      "12       9  19.823573\n",
      "13       7  40.400208\n",
      "14      13  22.736446\n",
      "15       3  41.445019\n",
      "16       2  45.863324\n",
      "17      12  35.782791\n",
      "18      13  22.396513\n",
      "19       7  40.448772\n",
      "20       0  64.533816\n",
      "21       3  46.895644\n",
      "22      10  36.176196\n",
      "23       5  44.330856\n",
      "24      13  32.207582\n",
      "25      11  31.435973\n",
      "26       7  58.345141\n",
      "27      10  40.917047\n",
      "28      12  41.015492\n",
      "29      12  28.025765\n",
      "30      15  35.252444\n",
      "31       9  23.804043\n",
      "32       5  52.076897\n",
      "33       3  53.371007\n",
      "34       4  45.811716\n",
      "35      11  21.871292\n",
      "36      10  31.072217\n",
      "37      11  28.742414\n",
      "38       6  36.523683\n",
      "39       9  36.471512\n",
      "40       3  39.241114\n",
      "41       6  45.328074\n",
      "42      12  26.734515\n",
      "43       3  54.850917\n",
      "44      11  37.136863\n",
      "45      11  34.139765\n",
      "46      13  30.313351\n",
      "47       6  40.105965\n",
      "48       9  29.924285\n",
      "49       7  40.692320\n",
      "50       2  59.642837\n",
      "51      10  30.450843\n",
      "52      14  37.840594\n",
      "53       3  41.503540\n",
      "54       0  60.756112\n",
      "55       0  63.005645\n",
      "56       6  49.511874\n",
      "58      12  39.259197\n",
      "59       8  39.703400\n",
      "60       6  55.333142\n",
      "61       2  41.998933\n",
      "62       3  40.560159\n",
      "63       0  68.235885\n",
      "64       0  74.472949\n",
      "65       0  72.801787\n",
      "66      15  31.230054\n",
      "67       3  53.131324\n",
      "68       5  59.363993\n",
      "69       3  38.839746\n",
      "70      14  28.592785\n",
      "71       3  46.658844\n",
      "72       3  39.106174\n",
      "73      12  27.753301\n",
      "74       3  49.787445\n",
      "75       3  51.592193\n",
      "76       8  36.187559\n"
     ]
    }
   ],
   "source": [
    "#dropping all columns except the sugars and ratings\n",
    "\n",
    "#df.drop(['name', 'mfr','type','calories','protein','fat','sodium','fiber','carbo','potass','vitamins','shelf','weight','cups'], axis=1, inplace=True)\n",
    "print(df.to_string())\n",
    "df.drop(df.loc[df['sugars']==-1].index, inplace=True)"
   ]
  },
  {
   "cell_type": "code",
   "execution_count": 37,
   "id": "634212b8",
   "metadata": {},
   "outputs": [
    {
     "name": "stdout",
     "output_type": "stream",
     "text": [
      "7.026315789473684\n",
      "7.0\n",
      "0    3\n",
      "Name: sugars, dtype: int64\n",
      "15\n",
      "0\n"
     ]
    }
   ],
   "source": [
    "#finding mean, median, mode, min, max\n",
    "\n",
    "print(df['sugars'].mean())\n",
    "print(df['sugars'].median())\n",
    "print(df['sugars'].mode())\n",
    "\n",
    "print(df['sugars'].max())\n",
    "print(df['sugars'].min())\n",
    "\n"
   ]
  },
  {
   "cell_type": "code",
   "execution_count": 53,
   "id": "b8c72a81",
   "metadata": {},
   "outputs": [
    {
     "data": {
      "text/html": [
       "<div>\n",
       "<style scoped>\n",
       "    .dataframe tbody tr th:only-of-type {\n",
       "        vertical-align: middle;\n",
       "    }\n",
       "\n",
       "    .dataframe tbody tr th {\n",
       "        vertical-align: top;\n",
       "    }\n",
       "\n",
       "    .dataframe thead th {\n",
       "        text-align: right;\n",
       "    }\n",
       "</style>\n",
       "<table border=\"1\" class=\"dataframe\">\n",
       "  <thead>\n",
       "    <tr style=\"text-align: right;\">\n",
       "      <th></th>\n",
       "      <th>sugars</th>\n",
       "      <th>rating</th>\n",
       "    </tr>\n",
       "  </thead>\n",
       "  <tbody>\n",
       "    <tr>\n",
       "      <th>sugars</th>\n",
       "      <td>1.000000</td>\n",
       "      <td>-0.763902</td>\n",
       "    </tr>\n",
       "    <tr>\n",
       "      <th>rating</th>\n",
       "      <td>-0.763902</td>\n",
       "      <td>1.000000</td>\n",
       "    </tr>\n",
       "  </tbody>\n",
       "</table>\n",
       "</div>"
      ],
      "text/plain": [
       "          sugars    rating\n",
       "sugars  1.000000 -0.763902\n",
       "rating -0.763902  1.000000"
      ]
     },
     "execution_count": 53,
     "metadata": {},
     "output_type": "execute_result"
    },
    {
     "data": {
      "image/png": "[encoded data removed]",
      "text/plain": [
       "<Figure size 720x720 with 1 Axes>"
      ]
     },
     "metadata": {
      "needs_background": "light"
     },
     "output_type": "display_data"
    }
   ],
   "source": [
    "fig, ax = plt.subplots(figsize=(10,10))\n",
    "sbn.regplot(y = df['rating'],x = df['sugars'])\n",
    "df.corr()"
   ]
  },
  {
   "cell_type": "code",
   "execution_count": null,
   "id": "31058a5b",
   "metadata": {},
   "outputs": [],
   "source": []
  },
  {
   "cell_type": "code",
   "execution_count": null,
   "id": "0510ec36",
   "metadata": {},
   "outputs": [],
   "source": []
  }
 ],
 "metadata": {
  "kernelspec": {
   "display_name": "Python 3 (ipykernel)",
   "language": "python",
   "name": "python3"
  },
  "language_info": {
   "codemirror_mode": {
    "name": "ipython",
    "version": 3
   },
   "file_extension": ".py",
   "mimetype": "text/x-python",
   "name": "python",
   "nbconvert_exporter": "python",
   "pygments_lexer": "ipython3",
   "version": "3.9.12"
  }
 },
 "nbformat": 4,
 "nbformat_minor": 5
}
