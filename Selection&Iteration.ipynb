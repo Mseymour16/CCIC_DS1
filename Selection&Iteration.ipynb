{
 "cells": [
  {
   "cell_type": "code",
   "execution_count": 15,
   "id": "f0f51cd3",
   "metadata": {},
   "outputs": [
    {
     "name": "stdout",
     "output_type": "stream",
     "text": [
      "False\n"
     ]
    }
   ],
   "source": [
    "list1=[3,2,5]\n",
    "list2=[5,3,7,9,2]\n",
    "huh=True\n",
    "for i in list1:\n",
    "    if i in list2:\n",
    "        huh=True\n",
    "    else:\n",
    "        huh=False\n",
    "        break\n",
    "        \n",
    "print(huh)"
   ]
  },
  {
   "cell_type": "code",
   "execution_count": 10,
   "id": "4c190169",
   "metadata": {},
   "outputs": [
    {
     "name": "stdout",
     "output_type": "stream",
     "text": [
      "1\n",
      "10\n",
      "[1, 2, 3, 4, 5, 6, 7, 8, 9, 10]\n"
     ]
    }
   ],
   "source": [
    "n = int(input())\n",
    "l = int(input())\n",
    "multiples = [x*n for x in range(1,l+1)]\n",
    "print(multiples)"
   ]
  },
  {
   "cell_type": "code",
   "execution_count": 32,
   "id": "52c09288",
   "metadata": {},
   "outputs": [
    {
     "name": "stdout",
     "output_type": "stream",
     "text": [
      "Enter Message: huh\n",
      ".... ..- .... \n"
     ]
    }
   ],
   "source": [
    "CODE = {\n",
    "  'A': '.-', 'B': '-...', 'C': '-.-.', 'D': '-..', 'E': '.', 'F': '..-.',\n",
    "  'G': '--.', 'H': '....', 'I': '..', 'J': '.---', 'K': '-.-', 'L': '.-..',\n",
    "  'M': '--', 'N': '-.', 'O': '---', 'P': '.--.', 'Q': '--.-', 'R': '.-.',\n",
    "  'S': '...', 'T': '-', 'U': '..-', 'V': '...-', 'W': '.--', 'X': '-..-',\n",
    "  'Y': '-.--', 'Z': '--..', ' ': ' ', '0': '-----',\n",
    "  '1': '.----', '2': '..---', '3': '...--', '4': '....-', '5': '.....',\n",
    "  '6': '-....', '7': '--...', '8': '---..', '9': '----.',\n",
    "  '&': '.-...', \"'\": '.----.', '@': '.--.-.', ')': '-.--.-', '(': '-.--.',\n",
    "  ':': '---...', ',': '--..--', '=': '-...-', '!': '-.-.--', '.': '.-.-.-',\n",
    "  '-': '-....-', '+': '.-.-.', '\"': '.-..-.', '?': '..--..', '/': '-..-.'\n",
    "}\n",
    "\n",
    "message=input(\"Enter Message: \")\n",
    "\n",
    "def morseCodeConvert(message):\n",
    "    message=message.upper()\n",
    "    encodedMessage = \"\"\n",
    "    for character in message:\n",
    "        encodedMessage += CODE[character] + \" \"\n",
    "    return encodedMessage\n",
    "\n",
    "encodedMessage = morseCodeConvert(message)\n",
    "print(encodedMessage)"
   ]
  },
  {
   "cell_type": "code",
   "execution_count": 100,
   "id": "872dc411",
   "metadata": {},
   "outputs": [
    {
     "name": "stdout",
     "output_type": "stream",
     "text": [
      "0\n",
      "True\n",
      "True\n",
      "True\n",
      "True\n"
     ]
    }
   ],
   "source": [
    "# FRONT STAGE\n",
    "seating= [[1, 2, 3, 2, 1, 1],\n",
    "         [2, 4, 4, 3, 2, 2],\n",
    "         [5, 5, 5, 5, 4, 6],\n",
    "         [6, 6, 7, 6, 5, 5]]\n",
    "\n",
    "idx= int(input())\n",
    "results = bool\n",
    "for row in seating:\n",
    "    row[idx]\n",
    "    if values[3] > values[2] > values[1] > values[0]:\n",
    "        results = True\n",
    "        print(results)\n",
    "    else:\n",
    "        print(False)\n",
    "        break"
   ]
  },
  {
   "cell_type": "code",
   "execution_count": null,
   "id": "c339b813",
   "metadata": {},
   "outputs": [],
   "source": []
  },
  {
   "cell_type": "code",
   "execution_count": null,
   "id": "bc9e5acd",
   "metadata": {},
   "outputs": [],
   "source": []
  }
 ],
 "metadata": {
  "kernelspec": {
   "display_name": "Python 3 (ipykernel)",
   "language": "python",
   "name": "python3"
  },
  "language_info": {
   "codemirror_mode": {
    "name": "ipython",
    "version": 3
   },
   "file_extension": ".py",
   "mimetype": "text/x-python",
   "name": "python",
   "nbconvert_exporter": "python",
   "pygments_lexer": "ipython3",
   "version": "3.9.12"
  }
 },
 "nbformat": 4,
 "nbformat_minor": 5
}
