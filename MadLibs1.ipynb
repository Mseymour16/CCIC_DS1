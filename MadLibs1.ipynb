{
 "cells": [
  {
   "cell_type": "code",
   "execution_count": null,
   "id": "4407ec81",
   "metadata": {},
   "outputs": [],
   "source": [
    "a = input(\"Verb ending in ING: \")\n",
    "b = input(\"Part of the Body: \")\n",
    "c = input(\"Plural Noun: \")\n",
    "d = input(\"Verb: \")\n",
    "e = input(\"Noun: \")\n",
    "f = input(\"A Place: \")\n",
    "g = input(\"Adverb: \")\n",
    "h = input(\"Noun: \")\n",
    "i = input(\"Plural Noun: \")\n",
    "j = input(\"Part of the Body: \")\n",
    "k = input(\"Part of the Body: \")\n",
    "l = input(\"Plural Noun: \")\n",
    "m = input(\"Plural Noun: \")\n",
    "n = input(\"Noun: \")"
   ]
  }
 ],
 "metadata": {
  "kernelspec": {
   "display_name": "Python 3 (ipykernel)",
   "language": "python",
   "name": "python3"
  },
  "language_info": {
   "codemirror_mode": {
    "name": "ipython",
    "version": 3
   },
   "file_extension": ".py",
   "mimetype": "text/x-python",
   "name": "python",
   "nbconvert_exporter": "python",
   "pygments_lexer": "ipython3",
   "version": "3.9.12"
  }
 },
 "nbformat": 4,
 "nbformat_minor": 5
}
