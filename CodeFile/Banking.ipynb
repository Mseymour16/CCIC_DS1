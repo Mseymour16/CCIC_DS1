{
 "cells": [
  {
   "cell_type": "code",
   "execution_count": 18,
   "id": "d9ab36a1",
   "metadata": {},
   "outputs": [
    {
     "name": "stdout",
     "output_type": "stream",
     "text": [
      "9378.166386071016\n"
     ]
    }
   ],
   "source": [
    "P=400\n",
    "r=0.16\n",
    "n=12\n",
    "t=20\n",
    "A = P * (1 + r/n)**n*t\n",
    "print(A)"
   ]
  },
  {
   "cell_type": "code",
   "execution_count": 24,
   "id": "3fd70755",
   "metadata": {},
   "outputs": [
    {
     "name": "stdout",
     "output_type": "stream",
     "text": [
      "120.4\n"
     ]
    }
   ],
   "source": [
    "B = (140 * 86/100)\n",
    "print(B)"
   ]
  },
  {
   "cell_type": "code",
   "execution_count": 25,
   "id": "e639086c",
   "metadata": {},
   "outputs": [
    {
     "name": "stdout",
     "output_type": "stream",
     "text": [
      "315.3159939960495\n"
     ]
    }
   ],
   "source": [
    "P=300\n",
    "r=0.05\n",
    "n=6\n",
    "t=1\n",
    "A = P * (1 + r/n)**n*t\n",
    "print(A)"
   ]
  },
  {
   "cell_type": "code",
   "execution_count": 39,
   "id": "397a19b7",
   "metadata": {},
   "outputs": [
    {
     "name": "stdout",
     "output_type": "stream",
     "text": [
      "975.0\n",
      "22100\n",
      "4.411764705882353\n"
     ]
    }
   ],
   "source": [
    "weekFees = (850 * 3/100)+(120 * 10/100)\n",
    "yearFees= weekFees * 26\n",
    "print(yearFees)\n",
    "yearGross= (850 * 26)\n",
    "print(yearGross)\n",
    "incomeFees=(yearFees/yearGross)*100\n",
    "print(incomeFees)"
   ]
  },
  {
   "cell_type": "code",
   "execution_count": 51,
   "id": "d0223d4a",
   "metadata": {},
   "outputs": [
    {
     "name": "stdout",
     "output_type": "stream",
     "text": [
      "0.25\n",
      "416.0\n"
     ]
    }
   ],
   "source": [
    "i = 50\n",
    "P = 400\n",
    "t = 2\n",
    "r = i/P*t\n",
    "print(r)\n",
    "P=400\n",
    "r=0.04\n",
    "n=1\n",
    "t=1\n",
    "A = P * (1 + r/n)**n*t\n",
    "print(A)"
   ]
  },
  {
   "cell_type": "code",
   "execution_count": 52,
   "id": "08d7c9a6",
   "metadata": {},
   "outputs": [
    {
     "name": "stdout",
     "output_type": "stream",
     "text": [
      "1481.95\n"
     ]
    }
   ],
   "source": [
    "P=1385\n",
    "r=0.07\n",
    "n=1\n",
    "t=1\n",
    "A = P * (1 + r/n)**n*t\n",
    "print(A)"
   ]
  },
  {
   "cell_type": "code",
   "execution_count": null,
   "id": "b9251452",
   "metadata": {},
   "outputs": [],
   "source": []
  }
 ],
 "metadata": {
  "kernelspec": {
   "display_name": "Python 3 (ipykernel)",
   "language": "python",
   "name": "python3"
  },
  "language_info": {
   "codemirror_mode": {
    "name": "ipython",
    "version": 3
   },
   "file_extension": ".py",
   "mimetype": "text/x-python",
   "name": "python",
   "nbconvert_exporter": "python",
   "pygments_lexer": "ipython3",
   "version": "3.9.12"
  }
 },
 "nbformat": 4,
 "nbformat_minor": 5
}
