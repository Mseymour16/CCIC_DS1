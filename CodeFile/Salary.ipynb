{
 "cells": [
  {
   "cell_type": "code",
   "execution_count": 1,
   "id": "d8c4563b",
   "metadata": {},
   "outputs": [],
   "source": [
    "import pandas as pd\n",
    "import random\n",
    "import math\n",
    "import seaborn as sbn\n",
    "from sklearn import linear_model\n",
    "from sklearn.metrics import mean_squared_error, r2_score"
   ]
  },
  {
   "cell_type": "code",
   "execution_count": 2,
   "id": "4b8d3c11",
   "metadata": {},
   "outputs": [
    {
     "name": "stdout",
     "output_type": "stream",
     "text": [
      "      total_experience_years  annual_base_pay\n",
      "0                       13.0         125000.0\n",
      "1                       15.0          65000.0\n",
      "2                        4.0          86000.0\n",
      "3                        4.0         105000.0\n",
      "4                        4.0         110000.0\n",
      "...                      ...              ...\n",
      "1650                     1.0          60500.0\n",
      "1651                     6.0         164000.0\n",
      "1652                     7.0         150000.0\n",
      "1653                     5.0          75000.0\n",
      "1654                     2.0             50.0\n",
      "\n",
      "[1655 rows x 2 columns]\n"
     ]
    }
   ],
   "source": [
    "df = pd.read_csv(\"SalariesSimple.csv\")\n",
    "print(df)"
   ]
  },
  {
   "cell_type": "code",
   "execution_count": 3,
   "id": "975a31ef",
   "metadata": {},
   "outputs": [],
   "source": [
    "df.isnull().values.any()\n",
    "df.dropna(inplace=True)"
   ]
  },
  {
   "cell_type": "code",
   "execution_count": 4,
   "id": "ad2d6cc4",
   "metadata": {},
   "outputs": [
    {
     "data": {
      "text/plain": [
       "False"
      ]
     },
     "execution_count": 4,
     "metadata": {},
     "output_type": "execute_result"
    }
   ],
   "source": [
    "df.isnull().values.any()"
   ]
  },
  {
   "cell_type": "code",
   "execution_count": 5,
   "id": "8298f465",
   "metadata": {},
   "outputs": [
    {
     "data": {
      "text/html": [
       "<div>\n",
       "<style scoped>\n",
       "    .dataframe tbody tr th:only-of-type {\n",
       "        vertical-align: middle;\n",
       "    }\n",
       "\n",
       "    .dataframe tbody tr th {\n",
       "        vertical-align: top;\n",
       "    }\n",
       "\n",
       "    .dataframe thead th {\n",
       "        text-align: right;\n",
       "    }\n",
       "</style>\n",
       "<table border=\"1\" class=\"dataframe\">\n",
       "  <thead>\n",
       "    <tr style=\"text-align: right;\">\n",
       "      <th></th>\n",
       "      <th>total_experience_years</th>\n",
       "      <th>annual_base_pay</th>\n",
       "    </tr>\n",
       "  </thead>\n",
       "  <tbody>\n",
       "    <tr>\n",
       "      <th>1143</th>\n",
       "      <td>8.0</td>\n",
       "      <td>0.000000e+00</td>\n",
       "    </tr>\n",
       "    <tr>\n",
       "      <th>1361</th>\n",
       "      <td>1.0</td>\n",
       "      <td>0.000000e+00</td>\n",
       "    </tr>\n",
       "    <tr>\n",
       "      <th>382</th>\n",
       "      <td>20.0</td>\n",
       "      <td>0.000000e+00</td>\n",
       "    </tr>\n",
       "    <tr>\n",
       "      <th>18</th>\n",
       "      <td>0.0</td>\n",
       "      <td>2.400000e+01</td>\n",
       "    </tr>\n",
       "    <tr>\n",
       "      <th>306</th>\n",
       "      <td>6.0</td>\n",
       "      <td>2.800000e+01</td>\n",
       "    </tr>\n",
       "    <tr>\n",
       "      <th>...</th>\n",
       "      <td>...</td>\n",
       "      <td>...</td>\n",
       "    </tr>\n",
       "    <tr>\n",
       "      <th>221</th>\n",
       "      <td>16.0</td>\n",
       "      <td>9.250000e+06</td>\n",
       "    </tr>\n",
       "    <tr>\n",
       "      <th>1088</th>\n",
       "      <td>30.0</td>\n",
       "      <td>1.028000e+07</td>\n",
       "    </tr>\n",
       "    <tr>\n",
       "      <th>1639</th>\n",
       "      <td>7.0</td>\n",
       "      <td>5.000000e+07</td>\n",
       "    </tr>\n",
       "    <tr>\n",
       "      <th>1135</th>\n",
       "      <td>0.0</td>\n",
       "      <td>1.560000e+08</td>\n",
       "    </tr>\n",
       "    <tr>\n",
       "      <th>1645</th>\n",
       "      <td>18.0</td>\n",
       "      <td>1.000000e+10</td>\n",
       "    </tr>\n",
       "  </tbody>\n",
       "</table>\n",
       "<p>1607 rows × 2 columns</p>\n",
       "</div>"
      ],
      "text/plain": [
       "      total_experience_years  annual_base_pay\n",
       "1143                     8.0     0.000000e+00\n",
       "1361                     1.0     0.000000e+00\n",
       "382                     20.0     0.000000e+00\n",
       "18                       0.0     2.400000e+01\n",
       "306                      6.0     2.800000e+01\n",
       "...                      ...              ...\n",
       "221                     16.0     9.250000e+06\n",
       "1088                    30.0     1.028000e+07\n",
       "1639                     7.0     5.000000e+07\n",
       "1135                     0.0     1.560000e+08\n",
       "1645                    18.0     1.000000e+10\n",
       "\n",
       "[1607 rows x 2 columns]"
      ]
     },
     "execution_count": 5,
     "metadata": {},
     "output_type": "execute_result"
    }
   ],
   "source": [
    "df.sort_values(by='annual_base_pay', ascending=True)"
   ]
  },
  {
   "cell_type": "code",
   "execution_count": 6,
   "id": "966d25bb",
   "metadata": {},
   "outputs": [
    {
     "data": {
      "text/html": [
       "<div>\n",
       "<style scoped>\n",
       "    .dataframe tbody tr th:only-of-type {\n",
       "        vertical-align: middle;\n",
       "    }\n",
       "\n",
       "    .dataframe tbody tr th {\n",
       "        vertical-align: top;\n",
       "    }\n",
       "\n",
       "    .dataframe thead th {\n",
       "        text-align: right;\n",
       "    }\n",
       "</style>\n",
       "<table border=\"1\" class=\"dataframe\">\n",
       "  <thead>\n",
       "    <tr style=\"text-align: right;\">\n",
       "      <th></th>\n",
       "      <th>total_experience_years</th>\n",
       "      <th>annual_base_pay</th>\n",
       "    </tr>\n",
       "  </thead>\n",
       "  <tbody>\n",
       "    <tr>\n",
       "      <th>0</th>\n",
       "      <td>13.0</td>\n",
       "      <td>125000.0</td>\n",
       "    </tr>\n",
       "    <tr>\n",
       "      <th>1</th>\n",
       "      <td>15.0</td>\n",
       "      <td>65000.0</td>\n",
       "    </tr>\n",
       "    <tr>\n",
       "      <th>2</th>\n",
       "      <td>4.0</td>\n",
       "      <td>86000.0</td>\n",
       "    </tr>\n",
       "    <tr>\n",
       "      <th>3</th>\n",
       "      <td>4.0</td>\n",
       "      <td>105000.0</td>\n",
       "    </tr>\n",
       "    <tr>\n",
       "      <th>4</th>\n",
       "      <td>4.0</td>\n",
       "      <td>110000.0</td>\n",
       "    </tr>\n",
       "    <tr>\n",
       "      <th>5</th>\n",
       "      <td>5.0</td>\n",
       "      <td>40000.0</td>\n",
       "    </tr>\n",
       "    <tr>\n",
       "      <th>6</th>\n",
       "      <td>4.0</td>\n",
       "      <td>45000.0</td>\n",
       "    </tr>\n",
       "    <tr>\n",
       "      <th>7</th>\n",
       "      <td>8.0</td>\n",
       "      <td>135000.0</td>\n",
       "    </tr>\n",
       "    <tr>\n",
       "      <th>8</th>\n",
       "      <td>2.0</td>\n",
       "      <td>105000.0</td>\n",
       "    </tr>\n",
       "    <tr>\n",
       "      <th>9</th>\n",
       "      <td>1.0</td>\n",
       "      <td>80000.0</td>\n",
       "    </tr>\n",
       "    <tr>\n",
       "      <th>10</th>\n",
       "      <td>10.0</td>\n",
       "      <td>120000.0</td>\n",
       "    </tr>\n",
       "    <tr>\n",
       "      <th>11</th>\n",
       "      <td>2.0</td>\n",
       "      <td>78000.0</td>\n",
       "    </tr>\n",
       "    <tr>\n",
       "      <th>12</th>\n",
       "      <td>2.0</td>\n",
       "      <td>60000.0</td>\n",
       "    </tr>\n",
       "    <tr>\n",
       "      <th>13</th>\n",
       "      <td>4.0</td>\n",
       "      <td>63000.0</td>\n",
       "    </tr>\n",
       "    <tr>\n",
       "      <th>14</th>\n",
       "      <td>4.0</td>\n",
       "      <td>63000.0</td>\n",
       "    </tr>\n",
       "  </tbody>\n",
       "</table>\n",
       "</div>"
      ],
      "text/plain": [
       "    total_experience_years  annual_base_pay\n",
       "0                     13.0         125000.0\n",
       "1                     15.0          65000.0\n",
       "2                      4.0          86000.0\n",
       "3                      4.0         105000.0\n",
       "4                      4.0         110000.0\n",
       "5                      5.0          40000.0\n",
       "6                      4.0          45000.0\n",
       "7                      8.0         135000.0\n",
       "8                      2.0         105000.0\n",
       "9                      1.0          80000.0\n",
       "10                    10.0         120000.0\n",
       "11                     2.0          78000.0\n",
       "12                     2.0          60000.0\n",
       "13                     4.0          63000.0\n",
       "14                     4.0          63000.0"
      ]
     },
     "execution_count": 6,
     "metadata": {},
     "output_type": "execute_result"
    }
   ],
   "source": [
    "sal = df[ (df['annual_base_pay'] < 500)].index\n",
    "sal2 = df[ (df['annual_base_pay'] > 300000)].index\n",
    "df.drop(sal, inplace=True)\n",
    "df.drop(sal2, inplace=True)\n",
    "df.head(15)"
   ]
  },
  {
   "cell_type": "code",
   "execution_count": 7,
   "id": "1acddb10",
   "metadata": {},
   "outputs": [
    {
     "name": "stdout",
     "output_type": "stream",
     "text": [
      "      total_experience_years  annual_base_pay\n",
      "0                       13.0         125000.0\n",
      "1                       15.0          65000.0\n",
      "2                        4.0          86000.0\n",
      "3                        4.0         105000.0\n",
      "4                        4.0         110000.0\n",
      "...                      ...              ...\n",
      "1648                     4.0         130000.0\n",
      "1650                     1.0          60500.0\n",
      "1651                     6.0         164000.0\n",
      "1652                     7.0         150000.0\n",
      "1653                     5.0          75000.0\n",
      "\n",
      "[1518 rows x 2 columns]\n"
     ]
    }
   ],
   "source": [
    "print(df)"
   ]
  },
  {
   "cell_type": "code",
   "execution_count": 8,
   "id": "e1923d57",
   "metadata": {},
   "outputs": [
    {
     "data": {
      "text/plain": [
       "<AxesSubplot:xlabel='total_experience_years', ylabel='annual_base_pay'>"
      ]
     },
     "execution_count": 8,
     "metadata": {},
     "output_type": "execute_result"
    },
    {
     "data": {
      "image/png": "[encoded data removed]",
      "text/plain": [
       "<Figure size 640x480 with 1 Axes>"
      ]
     },
     "metadata": {},
     "output_type": "display_data"
    }
   ],
   "source": [
    "sbn.scatterplot(data=df,x='total_experience_years', y = 'annual_base_pay')"
   ]
  },
  {
   "cell_type": "code",
   "execution_count": 9,
   "id": "ef78b929",
   "metadata": {},
   "outputs": [
    {
     "data": {
      "text/html": [
       "<div>\n",
       "<style scoped>\n",
       "    .dataframe tbody tr th:only-of-type {\n",
       "        vertical-align: middle;\n",
       "    }\n",
       "\n",
       "    .dataframe tbody tr th {\n",
       "        vertical-align: top;\n",
       "    }\n",
       "\n",
       "    .dataframe thead th {\n",
       "        text-align: right;\n",
       "    }\n",
       "</style>\n",
       "<table border=\"1\" class=\"dataframe\">\n",
       "  <thead>\n",
       "    <tr style=\"text-align: right;\">\n",
       "      <th></th>\n",
       "      <th>total_experience_years</th>\n",
       "      <th>annual_base_pay</th>\n",
       "    </tr>\n",
       "  </thead>\n",
       "  <tbody>\n",
       "    <tr>\n",
       "      <th>count</th>\n",
       "      <td>1518.000000</td>\n",
       "      <td>1518.000000</td>\n",
       "    </tr>\n",
       "    <tr>\n",
       "      <th>mean</th>\n",
       "      <td>6.654368</td>\n",
       "      <td>98057.902279</td>\n",
       "    </tr>\n",
       "    <tr>\n",
       "      <th>std</th>\n",
       "      <td>5.405061</td>\n",
       "      <td>48828.359118</td>\n",
       "    </tr>\n",
       "    <tr>\n",
       "      <th>min</th>\n",
       "      <td>0.000000</td>\n",
       "      <td>900.000000</td>\n",
       "    </tr>\n",
       "    <tr>\n",
       "      <th>25%</th>\n",
       "      <td>3.000000</td>\n",
       "      <td>62676.000000</td>\n",
       "    </tr>\n",
       "    <tr>\n",
       "      <th>50%</th>\n",
       "      <td>5.000000</td>\n",
       "      <td>98000.000000</td>\n",
       "    </tr>\n",
       "    <tr>\n",
       "      <th>75%</th>\n",
       "      <td>10.000000</td>\n",
       "      <td>128875.000000</td>\n",
       "    </tr>\n",
       "    <tr>\n",
       "      <th>max</th>\n",
       "      <td>43.000000</td>\n",
       "      <td>300000.000000</td>\n",
       "    </tr>\n",
       "  </tbody>\n",
       "</table>\n",
       "</div>"
      ],
      "text/plain": [
       "       total_experience_years  annual_base_pay\n",
       "count             1518.000000      1518.000000\n",
       "mean                 6.654368     98057.902279\n",
       "std                  5.405061     48828.359118\n",
       "min                  0.000000       900.000000\n",
       "25%                  3.000000     62676.000000\n",
       "50%                  5.000000     98000.000000\n",
       "75%                 10.000000    128875.000000\n",
       "max                 43.000000    300000.000000"
      ]
     },
     "execution_count": 9,
     "metadata": {},
     "output_type": "execute_result"
    }
   ],
   "source": [
    "df.describe()"
   ]
  },
  {
   "cell_type": "code",
   "execution_count": 10,
   "id": "367fa125",
   "metadata": {},
   "outputs": [],
   "source": [
    "#Split Code\n",
    "\n",
    "dfTrain=df.loc[:1092]\n",
    "dfTest=df.loc[1093:]"
   ]
  },
  {
   "cell_type": "code",
   "execution_count": 11,
   "id": "a6ded96a",
   "metadata": {},
   "outputs": [
    {
     "name": "stdout",
     "output_type": "stream",
     "text": [
      "      total_experience_years  annual_base_pay\n",
      "1093                     5.0         205000.0\n",
      "1094                    11.0          32900.0\n",
      "1097                     2.0          34000.0\n",
      "1098                     1.0          45000.0\n",
      "1099                     0.0         105000.0\n",
      "...                      ...              ...\n",
      "1648                     4.0         130000.0\n",
      "1650                     1.0          60500.0\n",
      "1651                     6.0         164000.0\n",
      "1652                     7.0         150000.0\n",
      "1653                     5.0          75000.0\n",
      "\n",
      "[507 rows x 2 columns]\n"
     ]
    }
   ],
   "source": [
    "print(dfTest)"
   ]
  },
  {
   "cell_type": "code",
   "execution_count": 12,
   "id": "4e4af0da",
   "metadata": {},
   "outputs": [
    {
     "name": "stdout",
     "output_type": "stream",
     "text": [
      "      total_experience_years  annual_base_pay\n",
      "0                       13.0         125000.0\n",
      "1                       15.0          65000.0\n",
      "2                        4.0          86000.0\n",
      "3                        4.0         105000.0\n",
      "4                        4.0         110000.0\n",
      "...                      ...              ...\n",
      "1087                     6.0          28000.0\n",
      "1089                     7.0         130000.0\n",
      "1090                     3.0          84000.0\n",
      "1091                     1.0         105000.0\n",
      "1092                     2.0          70000.0\n",
      "\n",
      "[1011 rows x 2 columns]\n"
     ]
    }
   ],
   "source": [
    "print(dfTrain)"
   ]
  },
  {
   "cell_type": "code",
   "execution_count": 13,
   "id": "9c25b8eb",
   "metadata": {},
   "outputs": [
    {
     "data": {
      "text/html": [
       "<div>\n",
       "<style scoped>\n",
       "    .dataframe tbody tr th:only-of-type {\n",
       "        vertical-align: middle;\n",
       "    }\n",
       "\n",
       "    .dataframe tbody tr th {\n",
       "        vertical-align: top;\n",
       "    }\n",
       "\n",
       "    .dataframe thead th {\n",
       "        text-align: right;\n",
       "    }\n",
       "</style>\n",
       "<table border=\"1\" class=\"dataframe\">\n",
       "  <thead>\n",
       "    <tr style=\"text-align: right;\">\n",
       "      <th></th>\n",
       "      <th>total_experience_years</th>\n",
       "      <th>annual_base_pay</th>\n",
       "    </tr>\n",
       "  </thead>\n",
       "  <tbody>\n",
       "    <tr>\n",
       "      <th>1012</th>\n",
       "      <td>7.0</td>\n",
       "      <td>900.0</td>\n",
       "    </tr>\n",
       "    <tr>\n",
       "      <th>1339</th>\n",
       "      <td>1.0</td>\n",
       "      <td>1000.0</td>\n",
       "    </tr>\n",
       "    <tr>\n",
       "      <th>1637</th>\n",
       "      <td>1.0</td>\n",
       "      <td>1400.0</td>\n",
       "    </tr>\n",
       "    <tr>\n",
       "      <th>402</th>\n",
       "      <td>20.0</td>\n",
       "      <td>1500.0</td>\n",
       "    </tr>\n",
       "    <tr>\n",
       "      <th>1394</th>\n",
       "      <td>5.0</td>\n",
       "      <td>1520.0</td>\n",
       "    </tr>\n",
       "    <tr>\n",
       "      <th>...</th>\n",
       "      <td>...</td>\n",
       "      <td>...</td>\n",
       "    </tr>\n",
       "    <tr>\n",
       "      <th>948</th>\n",
       "      <td>15.0</td>\n",
       "      <td>290000.0</td>\n",
       "    </tr>\n",
       "    <tr>\n",
       "      <th>121</th>\n",
       "      <td>0.0</td>\n",
       "      <td>300000.0</td>\n",
       "    </tr>\n",
       "    <tr>\n",
       "      <th>432</th>\n",
       "      <td>3.0</td>\n",
       "      <td>300000.0</td>\n",
       "    </tr>\n",
       "    <tr>\n",
       "      <th>375</th>\n",
       "      <td>4.0</td>\n",
       "      <td>300000.0</td>\n",
       "    </tr>\n",
       "    <tr>\n",
       "      <th>386</th>\n",
       "      <td>7.0</td>\n",
       "      <td>300000.0</td>\n",
       "    </tr>\n",
       "  </tbody>\n",
       "</table>\n",
       "<p>1518 rows × 2 columns</p>\n",
       "</div>"
      ],
      "text/plain": [
       "      total_experience_years  annual_base_pay\n",
       "1012                     7.0            900.0\n",
       "1339                     1.0           1000.0\n",
       "1637                     1.0           1400.0\n",
       "402                     20.0           1500.0\n",
       "1394                     5.0           1520.0\n",
       "...                      ...              ...\n",
       "948                     15.0         290000.0\n",
       "121                      0.0         300000.0\n",
       "432                      3.0         300000.0\n",
       "375                      4.0         300000.0\n",
       "386                      7.0         300000.0\n",
       "\n",
       "[1518 rows x 2 columns]"
      ]
     },
     "execution_count": 13,
     "metadata": {},
     "output_type": "execute_result"
    }
   ],
   "source": [
    "df.sort_values(by='annual_base_pay', ascending=True)"
   ]
  },
  {
   "cell_type": "code",
   "execution_count": 31,
   "id": "8a45c724",
   "metadata": {},
   "outputs": [],
   "source": [
    "def lineReg(dfTrain):\n",
    "    count = 0\n",
    "    slopes = {}\n",
    "    while count< 100:\n",
    "        a = 300      #50000 4889 20000 3741 25000 3898\n",
    "        b = 0\n",
    "        c = 0\n",
    "        sum = sumOfDistances(a, b, c, dfTrain)\n",
    "        slopes[a] = sum\n",
    "        count = count + 1\n",
    "    print(slopes)"
   ]
  },
  {
   "cell_type": "code",
   "execution_count": 32,
   "id": "a0ec5c74",
   "metadata": {},
   "outputs": [],
   "source": [
    "def sumOfDistances(a, b, c, dfTrain):\n",
    "    sum = 0\n",
    "    for row in range(0, len(dfTrain.index)):\n",
    "        yrs = dfTrain.iat[row, 0]\n",
    "        pay = dfTrain.iat[row, 1]\n",
    "        distance = abs((a * yrs) + (b * pay + c)) / (math.sqrt(a * a + b * b))\n",
    "        sum = sum + distance\n",
    "    return sum"
   ]
  },
  {
   "cell_type": "code",
   "execution_count": 33,
   "id": "c0886329",
   "metadata": {},
   "outputs": [
    {
     "name": "stdout",
     "output_type": "stream",
     "text": [
      "{300: 6661.98}\n"
     ]
    }
   ],
   "source": [
    "lineReg(dfTrain)"
   ]
  },
  {
   "cell_type": "code",
   "execution_count": 17,
   "id": "46e4ec85",
   "metadata": {},
   "outputs": [],
   "source": [
    "def MSE(dfTest, a, b):\n",
    "    sum = 0\n",
    "    for row in range(0, len(dfTest.index)):\n",
    "        yrs = dfTest.iat[row, 0]\n",
    "        actual = dfTest.iat[row,1]\n",
    "        predicted = a * yrs + b\n",
    "        sum = sum + (predicted - actual)*(predicted - actual)\n",
    "    return sum/len(dfTest.index)"
   ]
  },
  {
   "cell_type": "code",
   "execution_count": 18,
   "id": "1d84f0ab",
   "metadata": {},
   "outputs": [
    {
     "name": "stdout",
     "output_type": "stream",
     "text": [
      "14446468368.094513\n"
     ]
    }
   ],
   "source": [
    "print(MSE(dfTest, 20000, -1))"
   ]
  },
  {
   "cell_type": "code",
   "execution_count": 19,
   "id": "a95d18aa",
   "metadata": {},
   "outputs": [
    {
     "data": {
      "text/plain": [
       "480000"
      ]
     },
     "execution_count": 19,
     "metadata": {},
     "output_type": "execute_result"
    }
   ],
   "source": [
    "20000*24"
   ]
  },
  {
   "cell_type": "code",
   "execution_count": 20,
   "id": "0ee9bdb3",
   "metadata": {},
   "outputs": [],
   "source": [
    "regr = linear_model.LinearRegression()"
   ]
  },
  {
   "cell_type": "code",
   "execution_count": 21,
   "id": "3786f6bd",
   "metadata": {},
   "outputs": [
    {
     "data": {
      "text/plain": [
       "LinearRegression()"
      ]
     },
     "execution_count": 21,
     "metadata": {},
     "output_type": "execute_result"
    }
   ],
   "source": [
    "regr.fit(dfTrain, dfTrain['annual_base_pay'])"
   ]
  },
  {
   "cell_type": "code",
   "execution_count": 22,
   "id": "1b31f666",
   "metadata": {},
   "outputs": [],
   "source": [
    "predictions = regr.predict(dfTest)"
   ]
  },
  {
   "cell_type": "code",
   "execution_count": 23,
   "id": "630d839b",
   "metadata": {},
   "outputs": [
    {
     "name": "stdout",
     "output_type": "stream",
     "text": [
      "Coefficients: \n",
      " [8.57650079e-13 1.00000000e+00]\n"
     ]
    }
   ],
   "source": [
    "print(\"Coefficients: \\n\", regr.coef_)"
   ]
  },
  {
   "cell_type": "code",
   "execution_count": 24,
   "id": "2886de5a",
   "metadata": {},
   "outputs": [
    {
     "data": {
      "text/plain": [
       "11245296634.194756"
      ]
     },
     "execution_count": 24,
     "metadata": {},
     "output_type": "execute_result"
    }
   ],
   "source": [
    "mean_squared_error(dfTest['total_experience_years'],predictions)"
   ]
  },
  {
   "cell_type": "code",
   "execution_count": 25,
   "id": "b5d79981",
   "metadata": {},
   "outputs": [
    {
     "ename": "ValueError",
     "evalue": "y_true and y_pred have different number of output (2!=1)",
     "output_type": "error",
     "traceback": [
      "\u001b[1;31m---------------------------------------------------------------------------\u001b[0m",
      "\u001b[1;31mValueError\u001b[0m                                Traceback (most recent call last)",
      "\u001b[1;32m~\\AppData\\Local\\Temp\\ipykernel_13112\\2260218003.py\u001b[0m in \u001b[0;36m<module>\u001b[1;34m\u001b[0m\n\u001b[1;32m----> 1\u001b[1;33m \u001b[0mprint\u001b[0m\u001b[1;33m(\u001b[0m\u001b[1;34m\"Coefficient of determination: %.2f\"\u001b[0m \u001b[1;33m%\u001b[0m \u001b[0mr2_score\u001b[0m\u001b[1;33m(\u001b[0m\u001b[0mdfTest\u001b[0m\u001b[1;33m,\u001b[0m \u001b[0mpredictions\u001b[0m\u001b[1;33m)\u001b[0m\u001b[1;33m)\u001b[0m\u001b[1;33m\u001b[0m\u001b[1;33m\u001b[0m\u001b[0m\n\u001b[0m",
      "\u001b[1;32mc:\\Users\\mseymour\\Anaconda3\\lib\\site-packages\\sklearn\\metrics\\_regression.py\u001b[0m in \u001b[0;36mr2_score\u001b[1;34m(y_true, y_pred, sample_weight, multioutput)\u001b[0m\n\u001b[0;32m    787\u001b[0m     \u001b[1;33m-\u001b[0m\u001b[1;36m3.0\u001b[0m\u001b[1;33m\u001b[0m\u001b[1;33m\u001b[0m\u001b[0m\n\u001b[0;32m    788\u001b[0m     \"\"\"\n\u001b[1;32m--> 789\u001b[1;33m     y_type, y_true, y_pred, multioutput = _check_reg_targets(\n\u001b[0m\u001b[0;32m    790\u001b[0m         \u001b[0my_true\u001b[0m\u001b[1;33m,\u001b[0m \u001b[0my_pred\u001b[0m\u001b[1;33m,\u001b[0m \u001b[0mmultioutput\u001b[0m\u001b[1;33m\u001b[0m\u001b[1;33m\u001b[0m\u001b[0m\n\u001b[0;32m    791\u001b[0m     )\n",
      "\u001b[1;32mc:\\Users\\mseymour\\Anaconda3\\lib\\site-packages\\sklearn\\metrics\\_regression.py\u001b[0m in \u001b[0;36m_check_reg_targets\u001b[1;34m(y_true, y_pred, multioutput, dtype)\u001b[0m\n\u001b[0;32m    103\u001b[0m \u001b[1;33m\u001b[0m\u001b[0m\n\u001b[0;32m    104\u001b[0m     \u001b[1;32mif\u001b[0m \u001b[0my_true\u001b[0m\u001b[1;33m.\u001b[0m\u001b[0mshape\u001b[0m\u001b[1;33m[\u001b[0m\u001b[1;36m1\u001b[0m\u001b[1;33m]\u001b[0m \u001b[1;33m!=\u001b[0m \u001b[0my_pred\u001b[0m\u001b[1;33m.\u001b[0m\u001b[0mshape\u001b[0m\u001b[1;33m[\u001b[0m\u001b[1;36m1\u001b[0m\u001b[1;33m]\u001b[0m\u001b[1;33m:\u001b[0m\u001b[1;33m\u001b[0m\u001b[1;33m\u001b[0m\u001b[0m\n\u001b[1;32m--> 105\u001b[1;33m         raise ValueError(\n\u001b[0m\u001b[0;32m    106\u001b[0m             \"y_true and y_pred have different number of output ({0}!={1})\".format(\n\u001b[0;32m    107\u001b[0m                 \u001b[0my_true\u001b[0m\u001b[1;33m.\u001b[0m\u001b[0mshape\u001b[0m\u001b[1;33m[\u001b[0m\u001b[1;36m1\u001b[0m\u001b[1;33m]\u001b[0m\u001b[1;33m,\u001b[0m \u001b[0my_pred\u001b[0m\u001b[1;33m.\u001b[0m\u001b[0mshape\u001b[0m\u001b[1;33m[\u001b[0m\u001b[1;36m1\u001b[0m\u001b[1;33m]\u001b[0m\u001b[1;33m\u001b[0m\u001b[1;33m\u001b[0m\u001b[0m\n",
      "\u001b[1;31mValueError\u001b[0m: y_true and y_pred have different number of output (2!=1)"
     ]
    }
   ],
   "source": [
    "print(\"Coefficient of determination: %.2f\" % r2_score(dfTest, predictions))"
   ]
  }
 ],
 "metadata": {
  "kernelspec": {
   "display_name": "Python 3 (ipykernel)",
   "language": "python",
   "name": "python3"
  },
  "language_info": {
   "codemirror_mode": {
    "name": "ipython",
    "version": 3
   },
   "file_extension": ".py",
   "mimetype": "text/x-python",
   "name": "python",
   "nbconvert_exporter": "python",
   "pygments_lexer": "ipython3",
   "version": "3.9.13"
  },
  "vscode": {
   "interpreter": {
    "hash": "204f37850b0fda09b602380ea71d0d9369b5a13c49667d4f545e4c822f9bd302"
   }
  }
 },
 "nbformat": 4,
 "nbformat_minor": 5
}
