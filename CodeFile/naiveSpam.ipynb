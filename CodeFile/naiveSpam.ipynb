{
 "cells": [
  {
   "cell_type": "code",
   "execution_count": 83,
   "metadata": {},
   "outputs": [],
   "source": [
    "import pandas as pd"
   ]
  },
  {
   "cell_type": "code",
   "execution_count": 87,
   "metadata": {},
   "outputs": [],
   "source": [
    "spam=pd.read_csv('spam.csv')\n",
    "spam.drop(['Unnamed: 2','Unnamed: 3','Unnamed: 4'], axis = 1, inplace = True)\n",
    "spam.Message = spam.Message.str.lower()"
   ]
  },
  {
   "cell_type": "code",
   "execution_count": 90,
   "metadata": {},
   "outputs": [
    {
     "name": "stdout",
     "output_type": "stream",
     "text": [
      "[('call', 342), ('free', 180), ('2', 169), ('ur', 144), ('txt', 136)]\n"
     ]
    }
   ],
   "source": [
    "with open('stopwords.txt') as file:\n",
    "    stopWords = [word.rstrip() for word in file]\n",
    "\n",
    "def getTopSpamWords(spam, numWords):\n",
    "    spamWords = {}\n",
    "    for idx in range(len(spam)):\n",
    "        if spam.iat[idx, 0] == 'spam':\n",
    "         message = spam.iat[idx, 1]\n",
    "         message = message.split()\n",
    "         for word in message:\n",
    "            if word not in stopWords:\n",
    "                if word not in spamWords:\n",
    "                    spamWords[word] = 1\n",
    "                else:\n",
    "                    spamWords[word] = spamWords[word] + 1\n",
    "\n",
    "    spamWords = sorted(spamWords.items(), key=lambda x:x[1], reverse=True)\n",
    "    topSpam= spamWords[:numWords]\n",
    "    return topSpam\n",
    "\n",
    "result = getTopSpamWords(spam, 5)\n",
    "print(result)"
   ]
  },
  {
   "cell_type": "code",
   "execution_count": null,
   "metadata": {},
   "outputs": [],
   "source": []
  }
 ],
 "metadata": {
  "kernelspec": {
   "display_name": "base",
   "language": "python",
   "name": "python3"
  },
  "language_info": {
   "codemirror_mode": {
    "name": "ipython",
    "version": 3
   },
   "file_extension": ".py",
   "mimetype": "text/x-python",
   "name": "python",
   "nbconvert_exporter": "python",
   "pygments_lexer": "ipython3",
   "version": "3.9.13"
  },
  "orig_nbformat": 4
 },
 "nbformat": 4,
 "nbformat_minor": 2
}
