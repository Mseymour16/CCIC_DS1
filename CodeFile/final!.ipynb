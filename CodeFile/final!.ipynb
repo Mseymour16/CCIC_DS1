{
 "cells": [
  {
   "cell_type": "code",
   "execution_count": 28,
   "metadata": {},
   "outputs": [],
   "source": [
    "import numpy as np\n",
    "import os\n",
    "os.environ['TF_CPP_MIN_LOG_LEVEL'] = '2'\n",
    "import PIL\n",
    "import PIL.Image\n",
    "import tensorflow as tf\n",
    "from tensorflow import keras\n",
    "from tensorflow.keras import layers\n",
    "from tensorflow.keras.preprocessing.image import ImageDataGenerator\n",
    "from tensorflow.keras.preprocessing.image import load_img, img_to_array\n"
   ]
  },
  {
   "cell_type": "code",
   "execution_count": 29,
   "metadata": {},
   "outputs": [],
   "source": [
    "img_height = 28\n",
    "img_width = 28\n",
    "batch_size = 32"
   ]
  },
  {
   "cell_type": "code",
   "execution_count": 35,
   "metadata": {},
   "outputs": [
    {
     "name": "stdout",
     "output_type": "stream",
     "text": [
      "Found 26179 files belonging to 10 classes.\n",
      "Using 18326 files for training.\n",
      "Found 26179 files belonging to 10 classes.\n",
      "Using 7853 files for validation.\n"
     ]
    }
   ],
   "source": [
    "# path = \"/Users/Mikle/Downloads/dataSubfolders\"\n",
    "path = r\"C:\\Users\\Mikle\\Downloads\\dataSubfolders\\raw-img\"\n",
    "\n",
    "train = tf.keras.preprocessing.image_dataset_from_directory(\n",
    "    path,\n",
    "    labels='inferred',\n",
    "    label_mode='categorical',\n",
    "    class_names=['cane', 'cavallo', 'elefante', 'farfalla', 'gallina', 'gatto', 'mucca', 'pecora', 'ragno', 'scoiattolo'],\n",
    "    # class_names=['squirrel','spider','lamb','cow','cat','chicken','butterfly','elephant','horse','dog'],\n",
    "    color_mode='rgb',\n",
    "    batch_size=batch_size,\n",
    "    image_size=(img_height, img_width),\n",
    "    shuffle=True,\n",
    "    seed=123,\n",
    "    validation_split=0.3,\n",
    "    subset='training'\n",
    ")\n",
    "\n",
    "test = tf.keras.preprocessing.image_dataset_from_directory(\n",
    "    path,\n",
    "    labels='inferred',\n",
    "    label_mode='categorical',\n",
    "    class_names=['cane', 'cavallo', 'elefante', 'farfalla', 'gallina', 'gatto', 'mucca', 'pecora', 'ragno', 'scoiattolo'],\n",
    "    # class_names=['squirrel','spider','lamb','cow','cat','chicken','butterfly','elephant','horse','dog'],\n",
    "    color_mode='rgb',\n",
    "    batch_size=batch_size,\n",
    "    image_size=(img_height, img_width),\n",
    "    shuffle=True,\n",
    "    seed=123,\n",
    "    validation_split=0.3,\n",
    "    subset='validation'\n",
    ")"
   ]
  },
  {
   "cell_type": "code",
   "execution_count": 36,
   "metadata": {},
   "outputs": [
    {
     "name": "stdout",
     "output_type": "stream",
     "text": [
      "False\n",
      "False\n",
      "The specified path is a folder\n"
     ]
    }
   ],
   "source": [
    "import os\n",
    "\n",
    "file_name = r\"C:\\Users\\Mikle\\Downloads\\dataSubfolders\\raw-img\"\n",
    "\n",
    "print(os.path.isfile('dataSubfolders'))  # 👉️ False\n",
    "print(os.path.isdir('dataSubfolders'))  # 👉️ True\n",
    "\n",
    "if os.path.isfile('dataSubfolders'):\n",
    "    with open('dataSubfolders', 'r', encoding='utf-8') as f:\n",
    "        lines = f.readlines()\n",
    "\n",
    "        print(lines)\n",
    "else:\n",
    "    # 👇️ this runs\n",
    "    print('The specified path is a folder')"
   ]
  },
  {
   "cell_type": "code",
   "execution_count": 37,
   "metadata": {},
   "outputs": [
    {
     "ename": "FileNotFoundError",
     "evalue": "[Errno 2] No such file or directory: 'C'",
     "output_type": "error",
     "traceback": [
      "\u001b[1;31m---------------------------------------------------------------------------\u001b[0m",
      "\u001b[1;31mFileNotFoundError\u001b[0m                         Traceback (most recent call last)",
      "Cell \u001b[1;32mIn[37], line 15\u001b[0m\n\u001b[0;32m     11\u001b[0m     imgs, labels \u001b[39m=\u001b[39m np\u001b[39m.\u001b[39marray(imgs), np\u001b[39m.\u001b[39marray(labels)\n\u001b[0;32m     12\u001b[0m     \u001b[39mreturn\u001b[39;00m imgs, labels\n\u001b[1;32m---> 15\u001b[0m x_train, y_train \u001b[39m=\u001b[39m make_dataset(path, [\u001b[39m'\u001b[39;49m\u001b[39msquirrel\u001b[39;49m\u001b[39m'\u001b[39;49m,\u001b[39m'\u001b[39;49m\u001b[39mspider\u001b[39;49m\u001b[39m'\u001b[39;49m,\u001b[39m'\u001b[39;49m\u001b[39mlamb\u001b[39;49m\u001b[39m'\u001b[39;49m,\u001b[39m'\u001b[39;49m\u001b[39mcow\u001b[39;49m\u001b[39m'\u001b[39;49m,\u001b[39m'\u001b[39;49m\u001b[39mcat\u001b[39;49m\u001b[39m'\u001b[39;49m,\u001b[39m'\u001b[39;49m\u001b[39mchicken\u001b[39;49m\u001b[39m'\u001b[39;49m,\u001b[39m'\u001b[39;49m\u001b[39mbutterfly\u001b[39;49m\u001b[39m'\u001b[39;49m,\u001b[39m'\u001b[39;49m\u001b[39melephant\u001b[39;49m\u001b[39m'\u001b[39;49m,\u001b[39m'\u001b[39;49m\u001b[39mhorse\u001b[39;49m\u001b[39m'\u001b[39;49m,\u001b[39m'\u001b[39;49m\u001b[39mdog\u001b[39;49m\u001b[39m'\u001b[39;49m])\n\u001b[0;32m     16\u001b[0m x_val, y_val \u001b[39m=\u001b[39m make_dataset(path, [\u001b[39m'\u001b[39m\u001b[39msquirrel\u001b[39m\u001b[39m'\u001b[39m,\u001b[39m'\u001b[39m\u001b[39mspider\u001b[39m\u001b[39m'\u001b[39m,\u001b[39m'\u001b[39m\u001b[39mlamb\u001b[39m\u001b[39m'\u001b[39m,\u001b[39m'\u001b[39m\u001b[39mcow\u001b[39m\u001b[39m'\u001b[39m,\u001b[39m'\u001b[39m\u001b[39mcat\u001b[39m\u001b[39m'\u001b[39m,\u001b[39m'\u001b[39m\u001b[39mchicken\u001b[39m\u001b[39m'\u001b[39m,\u001b[39m'\u001b[39m\u001b[39mbutterfly\u001b[39m\u001b[39m'\u001b[39m,\u001b[39m'\u001b[39m\u001b[39melephant\u001b[39m\u001b[39m'\u001b[39m,\u001b[39m'\u001b[39m\u001b[39mhorse\u001b[39m\u001b[39m'\u001b[39m,\u001b[39m'\u001b[39m\u001b[39mdog\u001b[39m\u001b[39m'\u001b[39m])\n",
      "Cell \u001b[1;32mIn[37], line 7\u001b[0m, in \u001b[0;36mmake_dataset\u001b[1;34m(x, y)\u001b[0m\n\u001b[0;32m      4\u001b[0m img_size \u001b[39m=\u001b[39m (img_height,img_width) \u001b[39m# set to whatever you need\u001b[39;00m\n\u001b[0;32m      6\u001b[0m \u001b[39mfor\u001b[39;00m i, j \u001b[39min\u001b[39;00m \u001b[39mzip\u001b[39m(x, y):\n\u001b[1;32m----> 7\u001b[0m     img \u001b[39m=\u001b[39m load_img(i, target_size\u001b[39m=\u001b[39;49mimg_size)\n\u001b[0;32m      8\u001b[0m     img \u001b[39m=\u001b[39m img_to_array(img)\n\u001b[0;32m      9\u001b[0m     imgs\u001b[39m.\u001b[39mappend(img)\n",
      "File \u001b[1;32mc:\\Users\\Mikle\\AppData\\Local\\Programs\\Python\\Python311\\Lib\\site-packages\\keras\\utils\\image_utils.py:422\u001b[0m, in \u001b[0;36mload_img\u001b[1;34m(path, grayscale, color_mode, target_size, interpolation, keep_aspect_ratio)\u001b[0m\n\u001b[0;32m    420\u001b[0m     \u001b[39mif\u001b[39;00m \u001b[39misinstance\u001b[39m(path, pathlib\u001b[39m.\u001b[39mPath):\n\u001b[0;32m    421\u001b[0m         path \u001b[39m=\u001b[39m \u001b[39mstr\u001b[39m(path\u001b[39m.\u001b[39mresolve())\n\u001b[1;32m--> 422\u001b[0m     \u001b[39mwith\u001b[39;00m \u001b[39mopen\u001b[39m(path, \u001b[39m\"\u001b[39m\u001b[39mrb\u001b[39m\u001b[39m\"\u001b[39m) \u001b[39mas\u001b[39;00m f:\n\u001b[0;32m    423\u001b[0m         img \u001b[39m=\u001b[39m pil_image\u001b[39m.\u001b[39mopen(io\u001b[39m.\u001b[39mBytesIO(f\u001b[39m.\u001b[39mread()))\n\u001b[0;32m    424\u001b[0m \u001b[39melse\u001b[39;00m:\n",
      "\u001b[1;31mFileNotFoundError\u001b[0m: [Errno 2] No such file or directory: 'C'"
     ]
    }
   ],
   "source": [
    "def make_dataset(x, y):\n",
    "    imgs = []\n",
    "    labels = []\n",
    "    img_size = (img_height,img_width) # set to whatever you need\n",
    "\n",
    "    for i, j in zip(x, y):\n",
    "        img = load_img(i, target_size=img_size)\n",
    "        img = img_to_array(img)\n",
    "        imgs.append(img)\n",
    "        labels.append(j)\n",
    "    imgs, labels = np.array(imgs), np.array(labels)\n",
    "    return imgs, labels\n",
    "\n",
    "\n",
    "x_train, y_train = make_dataset(path, ['squirrel','spider','lamb','cow','cat','chicken','butterfly','elephant','horse','dog'])\n",
    "x_val, y_val = make_dataset(path, ['squirrel','spider','lamb','cow','cat','chicken','butterfly','elephant','horse','dog'])\n",
    "\n"
   ]
  },
  {
   "cell_type": "code",
   "execution_count": null,
   "metadata": {},
   "outputs": [],
   "source": [
    "archive = tf.keras.utils.get_file(origin=str(train), extract=True)\n",
    "data_dir = pathlib.Path(archive).with_suffix('')"
   ]
  },
  {
   "cell_type": "code",
   "execution_count": null,
   "metadata": {},
   "outputs": [],
   "source": [
    "image_count = len(list(data_dir.glob('*/*.jpg')))\n",
    "print(image_count)"
   ]
  },
  {
   "cell_type": "code",
   "execution_count": null,
   "metadata": {},
   "outputs": [],
   "source": []
  }
 ],
 "metadata": {
  "kernelspec": {
   "display_name": "Python 3",
   "language": "python",
   "name": "python3"
  },
  "language_info": {
   "codemirror_mode": {
    "name": "ipython",
    "version": 3
   },
   "file_extension": ".py",
   "mimetype": "text/x-python",
   "name": "python",
   "nbconvert_exporter": "python",
   "pygments_lexer": "ipython3",
   "version": "3.11.2"
  },
  "orig_nbformat": 4,
  "vscode": {
   "interpreter": {
    "hash": "cf421da685e731a47b20a3ccf7e052eb55e76ab3ec78ec8cd407d78ef802f6a1"
   }
  }
 },
 "nbformat": 4,
 "nbformat_minor": 2
}
