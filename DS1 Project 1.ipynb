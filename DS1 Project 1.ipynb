{
 "cells": [
  {
   "cell_type": "code",
   "execution_count": 24,
   "id": "08f99466",
   "metadata": {},
   "outputs": [
    {
     "name": "stdout",
     "output_type": "stream",
     "text": [
      "     Rank              Channel Info  Influence Score Followers Avg. Likes  Posts  60-Day Eng Rate New Post Avg. Likes Total Likes       Country Or Region\n",
      "0       1               \\ncristiano               92    485.2m       8.7m   3.4k            0.013                6.3m       29.1b                   Spain\n",
      "1       2               kyliejenner               91    370.7m       8.2m   7.0k            0.014                5.0m       57.4b           United States\n",
      "2       3                \\nleomessi               90    363.9m       6.7m    915            0.010                3.5m        6.1b                     NaN\n",
      "3       4             \\nselenagomez               93    348.8m       6.1m   1.9k            0.005                1.7m       11.4b           United States\n",
      "4       5                 \\ntherock               91    339.4m       1.8m   6.8k            0.003              932.0k       12.6b           United States\n",
      "5       6            \\narianagrande               92    333.0m       3.7m   5.0k            0.009                3.1m       18.5b           United States\n",
      "6       7           \\nkimkardashian               91    330.7m       3.5m   5.7k            0.005                1.7m       19.8b           United States\n",
      "7       8                 \\nbeyonce               92    276.1m       3.6m   2.0k            0.008                2.2m        7.3b           United States\n",
      "8       9         \\nkhloekardashian               89    273.9m       2.4m   4.1k            0.002              404.7k        9.8b           United States\n",
      "9      10            \\njustinbieber               91    260.0m       1.9m   7.4k            0.007                1.7m       14.0b                  Canada\n",
      "10     11           \\nkendalljenner               90    258.9m       5.5m    671            0.012                3.0m        3.7b           United States\n",
      "11     12                  \\nnatgeo               91    241.1m     298.9k  10.0k            0.001              168.7k        3.0b           United States\n",
      "12     13                    \\nnike               90    239.2m     316.0k    973            0.001              193.6k      307.5m           United States\n",
      "13     14             \\ntaylorswift               91    226.1m       2.4m    542            0.015                3.3m        1.3b           United States\n",
      "14     15                     \\njlo               89    223.1m       1.7m   3.2k            0.005                1.2m        5.3b           United States\n",
      "15     16             \\nvirat.kohli               87    215.9m       3.5m   1.4k            0.013                2.7m        5.0b                     NaN\n",
      "16     17              \\nnickiminaj               90    202.7m       2.0m   6.4k            0.004              837.1k       12.9b           United States\n",
      "17     18         \\nkourtneykardash               89    199.4m       1.8m   4.4k            0.007                1.3m        7.8b           United States\n",
      "18     19              \\nmileycyrus               89    183.6m       1.3m   1.2k            0.004              702.4k        1.6b                     NaN\n",
      "19     20                \\nneymarjr               90    179.4m       2.7m   5.3k            0.012                2.2m       14.4b                  Brazil\n",
      "20     21               \\nkatyperry               92    173.3m     714.8k   2.1k            0.002              302.9k        1.5b                     NaN\n",
      "21     22           \\nkevinhartreal               88    154.2m     498.0k   8.3k            0.001              137.6k        4.1b           United States\n",
      "22     23                 \\nzendaya               87    153.3m       5.9m   3.5k            0.049                7.5m       20.8b           United States\n",
      "23     24               \\niamcardib               75    141.3m       3.1m   1.6k            0.015                2.0m        5.0b           United States\n",
      "24     25                \\nddlovato               88    140.6m       1.1m    105            0.002              305.1k      113.3m           United States\n",
      "25     26              \\nbadgalriri               88    136.3m       3.7m   4.8k            0.051                6.9m       18.0b           United States\n",
      "26     27               \\nkingjames               86    133.7m       2.1m   2.4k            0.008                1.0m        4.9b                     NaN\n",
      "27     28              \\nrealmadrid               90    125.8m     989.6k   7.1k            0.005              682.0k        7.1b                   Spain\n",
      "28     29            \\ntheellenshow               87    125.5m     412.7k  10.0k            0.001               59.2k        4.1b           United States\n",
      "29     30           \\nchampagnepapi               85    121.4m       1.7m   5.2k            0.012                1.4m        9.0b             Netherlands\n",
      "30     31      \\nchrisbrownofficial               86    121.2m     450.0k   7.4k            0.002              237.9k        3.4b           United States\n",
      "31     32             \\nfcbarcelona               90    112.5m       1.1m  10.0k            0.007              807.2k       11.5b                     NaN\n",
      "32     33            \\nbillieeilish               73    106.4m       8.4m    710            0.047                4.9m        6.0b                     NaN\n",
      "33     34               \\ngal_gadot               85     88.0m       1.4m   1.7k            0.008              735.9k        2.3b           United States\n",
      "34     35                 \\ndualipa               74     87.3m       2.1m   1.3k            0.017                1.5m        2.7b          United Kingdom\n",
      "35     36               \\nvindiesel               88     83.2m       1.4m   1.8k            0.006              505.8k        2.5b           United States\n",
      "36     37                    \\nnasa               88     83.1m       1.2m   3.6k            0.014                1.1m        4.3b           United States\n",
      "37     38          \\npriyankachopra               85     82.7m       1.6m   3.6k            0.008              644.6k        5.6b           United States\n",
      "38     39            \\nlalalalisa_m               70     82.6m       6.0m    893            0.088                7.2m        5.3b                     NaN\n",
      "39     40               \\nsnoopdogg               86     76.7m     211.4k  10.0k            0.004              278.0k        2.1b                     NaN\n",
      "40     41                 \\nShakira               88     76.2m     976.1k   2.0k            0.004              281.8k        1.9b                     NaN\n",
      "41     42               \\ngigihadid               85     75.9m       2.4m   3.3k            0.015                1.1m        7.9b           United States\n",
      "42     43            \\ndavidbeckham               86     75.4m       1.2m   1.6k            0.007              517.7k        1.9b           United States\n",
      "43     44          \\nshraddhakapoor               81     75.2m       1.6m   1.9k            0.016                1.2m        3.0b                     NaN\n",
      "44     45         \\nvictoriassecret               88     73.4m     144.8k   3.0k            0.000               25.9k      432.0m           United States\n",
      "45     46                \\nk.mbappe               86     72.7m       2.4m   1.2k            0.018                1.3m        2.8b                     NaN\n",
      "46     47              \\nnehakakkar               84     71.4m       1.5m   2.3k            0.008              585.9k        3.4b                   India\n",
      "47     48              \\naliaabhatt               82     71.2m       1.8m   1.9k            0.017                1.2m        3.3b                   India\n",
      "48     49                     \\nnba               87     71.1m     368.0k  12.8k            0.003              216.2k        4.7b           United States\n",
      "49     50          \\njennierubyjane               76     70.5m       5.2m    887            0.078                5.4m        4.6b                     NaN\n",
      "50     51             \\nshawnmendes               83     70.5m       3.5m   2.5k            0.025                1.8m        8.8b                  Canada\n",
      "51     52            \\nnarendramodi               85     70.2m       3.0m    549            0.037                2.6m        1.6b                   India\n",
      "52     53         \\ndeepikapadukone               83     69.3m       1.5m    285            0.009              616.3k      434.6m                   India\n",
      "53     54              \\nronaldinho               78     68.1m     868.9k   3.0k            0.007              480.1k        2.6b                  Brazil\n",
      "54     55          \\ntomholland2013               77     68.1m       5.4m   1.2k            0.117                7.9m        6.6b                     NaN\n",
      "55     56      \\nbts.bighitofficial               78     68.1m       4.1m   1.2k            0.041                2.8m        5.0b                 Uruguay\n",
      "56     57              \\nemmawatson               87     67.9m       1.6m    379            0.007              467.8k      622.7m           United States\n",
      "57     58             \\nkatrinakaif               85     67.5m       1.7m   1.0k            0.024                1.6m        1.8b                   India\n",
      "58     59                  \\nmarvel               82     66.6m     330.5k   7.2k            0.004              289.7k        2.4b                  Turkey\n",
      "59     60        \\njustintimberlake               87     66.5m     602.0k    785            0.013              842.9k      472.6m           United States\n",
      "60     61          \\ncamila_cabello               77     65.4m       1.8m   2.9k            0.014              926.8k        5.4b           United States\n",
      "61     62               \\nsooyaaa__               82     64.7m       4.7m    876            0.076                4.9m        4.1b                     NaN\n",
      "62     63         \\nraffinagita1717               83     64.4m     386.2k   9.8k            0.004              262.8k        3.8b               Indonesia\n",
      "63     64          \\njacquelinef143               85     63.6m       1.1m   2.4k            0.007              413.8k        2.8b                   India\n",
      "64     65         \\nroses_are_rosie               82     63.5m       4.7m    854            0.073                4.6m        4.0b                     NaN\n",
      "65     66             \\nakshaykumar               85     63.5m       1.5m   1.9k            0.010              631.4k        2.8b                     NaN\n",
      "66     67               \\nwillsmith               82     63.4m       1.4m   1.4k            0.016                1.0m        1.9b           United States\n",
      "67     68                  \\nanitta               82     63.3m     857.7k   5.1k            0.010              595.7k        4.4b           United States\n",
      "68     69                  \\nmaluma               84     62.9m       1.2m   8.2k            0.010              604.2k        9.7b                Colombia\n",
      "69     70                     \\npsg               86     62.7m     499.4k  10.1k            0.006              347.8k        5.1b                  France\n",
      "70     71        \\nmanchesterunited               85     60.8m     390.0k   9.8k            0.008              467.5k        3.8b          United Kingdom\n",
      "71     72           \\nanushkasharma               85     60.4m       1.9m   1.2k            0.027                1.7m        2.3b                     NaN\n",
      "72     73           \\nmarcelotwelve               86     59.0m     694.7k   2.7k            0.011              665.5k        1.9b                  Brazil\n",
      "73     74        \\nwhinderssonnunes               79     58.8m       1.6m   2.8k            0.009              505.9k        4.4b                  Brazil\n",
      "74     75        \\nmilliebobbybrown               80     58.6m       4.1m    290            0.082                4.8m        1.2b           United States\n",
      "75     76            \\nkarimbenzema               42     58.3m     863.1k   2.0k            0.017              989.2k        1.8b                   Spain\n",
      "76     77                     \\ngag               86     58.0m     662.0k  10.0k            0.005              268.4k        6.6b           United States\n",
      "77     78                  \\nkarolg               83     56.8m       3.1m   3.3k            0.090                5.1m       10.3b                   India\n",
      "78     79          \\nchrishemsworth               86     56.0m       2.6m    899            0.023                1.3m        2.3b               Australia\n",
      "79     80    \\niamzlatanibrahimovic               86     55.8m       1.5m    881            0.010              552.9k        1.3b                     NaN\n",
      "80     81               \\npaulpogba               80     55.5m       1.4m   1.3k            0.010              553.7k        1.8b                  France\n",
      "81     82                \\nzacefron               86     55.2m       2.3m    669            0.031                1.7m        1.5b           United States\n",
      "82     83                \\njuventus               87     55.1m     194.0k   9.9k            0.003              150.4k        1.9b                     NaN\n",
      "83     84              \\nbellahadid               79     55.1m       1.2m   3.2k            0.020                1.1m        3.7b          United Kingdom\n",
      "84     85        \\nleonardodicaprio               86     55.1m     396.6k   1.7k            0.005              283.7k      675.9m                     NaN\n",
      "85     86         \\nbeingsalmankhan               76     54.5m       1.4m   1.2k            0.020                1.1m        1.7b                   India\n",
      "86     87             \\ntatawerneck               86     54.3m     958.9k   5.6k            0.010              515.3k        5.4b                  Brazil\n",
      "87     88              \\nsunnyleone               84     54.1m     748.2k   4.7k            0.006              330.8k        3.5b                     NaN\n",
      "88     89             \\ndishapatani               74     53.7m       1.6m   2.2k            0.015              783.6k        3.4b           United States\n",
      "89     90             \\nsergioramos               87     53.5m     983.7k   2.3k            0.012              652.7k        2.2b                     NaN\n",
      "90     91                \\nladygaga               83     53.3m       1.4m   3.6k            0.011              586.8k        5.0b           United States\n",
      "91     92          \\nrobertdowneyjr               86     53.3m       2.8m    439            0.014              720.1k        1.2b           United States\n",
      "92     93                 \\nmosalah               22     52.9m       1.8m    849            0.013              686.1k        1.5b                     NaN\n",
      "93     94                 \\njbalvin               87     52.9m     858.9k  10.0k            0.008              410.8k        8.6b                     NaN\n",
      "94     95           \\nayutingting92               85     52.9m     144.9k  10.0k            0.001               47.7k        1.5b               Indonesia\n",
      "95     96                       433               79     51.9m     872.5k  10.4k            0.016              826.2k        9.0b             Netherlands\n",
      "96     97                     \\nthv               83     51.7m      15.4m     69            0.250               12.9m        1.1b                     NaN\n",
      "97     98              \\nhudabeauty               82     51.2m     180.9k   2.4k            0.001               40.9k      442.2m           United States\n",
      "98     99           \\nmichelleobama               85     51.1m     685.2k    620            0.004              212.8k      424.8m                     NaN\n",
      "99    100              \\nkritisanon               76     51.0m     891.5k   2.7k            0.011              539.1k        2.4b                   India\n",
      "100   101                   \\nadele               84     50.9m       4.7m    423            0.031                1.6m        2.0b           United States\n",
      "101   102              \\nkrisjenner               80     50.3m     351.2k   6.4k            0.005              267.4k        2.3b           United States\n",
      "102   103        \\njamesrodriguez10               86     50.0m       1.4m   1.1k            0.011              545.6k        1.5b                Colombia\n",
      "103   104       \\nblackpinkofficial               85     49.9m       2.1m   1.6k            0.027                1.4m        3.3b                     NaN\n",
      "104   105                \\nlelepons               81     49.7m       2.4m   2.5k            0.031                1.5m        6.1b           United States\n",
      "105   106     \\nprillylatuconsina96               84     49.6m     369.6k   6.5k            0.003              159.3k        2.4b               Indonesia\n",
      "106   107           \\ncharlidamelio               80     49.2m       4.2m    179            0.028                1.4m      753.9m                     NaN\n",
      "107   108                   \\ngucci               86     49.1m     115.1k   9.0k            0.001               72.4k        1.0b                   Italy\n",
      "108   109             \\npaulodybala               85     49.0m       1.8m   1.3k            0.021                1.0m        2.3b                     NaN\n",
      "109   110            \\nlouisvuitton               82     48.9m     127.5k   6.6k            0.001               40.5k      837.1m                  France\n",
      "110   111             \\ndovecameron               85     48.6m       1.6m    207            0.021                1.0m      327.2m           United States\n",
      "111   112                  \\njokowi               85     48.5m     445.7k   3.7k            0.004              199.8k        1.6b                     NaN\n",
      "112   113            \\nhaileybieber               85     48.3m       2.0m   2.1k            0.036                1.7m        4.2b                     NaN\n",
      "113   114                 \\nnusr_et               81     48.2m     696.6k   2.4k            0.005              219.3k        1.6b    United Arab Emirates\n",
      "114   115              \\ngarethbale               86     48.1m     758.3k    989            0.007              328.8k      750.0m                     NaN\n",
      "115   116             \\nharrystyles               57     47.6m       4.7m    618            0.064                2.9m        2.9b           United States\n",
      "116   117          \\nvanessahudgens               84     47.4m     629.1k   4.2k            0.006              291.4k        2.7b           United States\n",
      "117   118          \\nlarissamanoela               85     47.3m     575.0k   5.3k            0.005              252.5k        3.0b                  Brazil\n",
      "118   119                    \\nzayn               82     47.3m       4.7m    165            0.085                3.9m      783.5m           United States\n",
      "119   120             \\ntravisscott               78     46.5m       3.0m   3.2k            0.057                2.6m        9.6b           United States\n",
      "120   121          \\nstephencurry30               84     46.4m       1.1m   1.1k            0.011              511.4k        1.2b                     NaN\n",
      "121   122   \\n5-Minute Crafts GIRLY               85     46.2m     155.4k  10.0k            0.001               60.4k        1.6b           United States\n",
      "122   123         \\nthenotoriousmma               82     46.2m       1.1m   3.2k            0.006              287.4k        3.5b           United States\n",
      "123   124             \\ndaddyyankee               80     46.1m     650.0k     35            0.008              346.9k       22.8m             Puerto Rico\n",
      "124   125            \\nnatgeotravel               82     45.8m     189.9k  16.9k            0.001               52.8k        3.2b           United States\n",
      "125   126         \\nvancityreynolds               86     45.6m       1.2m    695            0.028                1.3m      861.0m                     NaN\n",
      "126   127            \\nnikefootball               85     45.4m     411.6k   1.8k            0.003              137.4k      756.6m           United States\n",
      "127   128                   \\nmaisa               42     45.1m     550.6k   1.5k            0.005              217.2k      829.8m                  Brazil\n",
      "128   129          \\njannatzubair29               84     44.6m       1.3m   1.7k            0.016              693.7k        2.2b                     NaN\n",
      "129   130             \\nluissuarez9               85     44.4m     801.8k    992            0.010              414.8k      795.4m                     NaN\n",
      "130   131                \\nvarundvn               84     44.4m       1.1m   1.9k            0.013              586.2k        2.0b                   India\n",
      "131   132                     \\nj.m               83     44.2m      14.4m     28            0.228               10.0m      402.1m                     NaN\n",
      "132   133           \\nhrithikroshan               85     44.2m       1.6m    617            0.018              780.5k      958.9m           Côte d'Ivoire\n",
      "133   134            \\ngusttavolima               76     44.1m     475.1k   4.9k            0.007              303.9k        2.3b                  Brazil\n",
      "134   135               \\ntheweeknd               83     43.8m       1.1m    735            0.040                1.6m      839.0m                     NaN\n",
      "135   136              \\nnickyjampr               81     43.5m     379.1k  10.0k            0.003              129.1k        3.8b                Colombia\n",
      "136   137           \\nbuzzfeedtasty               85     43.5m      63.5k   9.3k            0.001               23.6k      590.9m                   Spain\n",
      "137   138         \\nbrunamarquezine               84     43.4m     943.5k   3.0k            0.009              363.1k        2.9b           United States\n",
      "138   139              \\nbadbunnypr               83     43.4m       3.7m     20            0.131                5.5m       75.0m                     NaN\n",
      "139   140             \\nkapilsharma               83     43.1m     736.3k   1.0k            0.015              625.4k      745.9m                     NaN\n",
      "140   141          \\ncaradelevingne               86     42.9m     790.7k   3.7k            0.008              362.2k        3.0b           United States\n",
      "141   142              \\nnorafatehi               83     42.5m       1.4m   1.7k            0.018              727.5k        2.4b                Anguilla\n",
      "142   143           \\nbritneyspears               80     42.1m     511.2k   3.1k            0.007              285.9k        1.6b                  Turkey\n",
      "143   144  \\nmariliamendoncacantora               73     41.8m       1.0m   1.5k            0.020              817.9k        1.5b                  Brazil\n",
      "144   145                    \\ndior               85     41.8m      86.6k   9.9k            0.001               54.1k      854.9m                     NaN\n",
      "145   146                \\ncznburak               80     41.4m     837.9k   1.8k            0.011              411.1k        1.5b                     NaN\n",
      "146   147            \\nranveersingh               85     41.4m     986.9k   1.8k            0.016              641.0k        1.8b             Switzerland\n",
      "147   148        \\nmarinaruybarbosa               81     41.1m     582.5k   2.1k            0.002               69.4k        1.2b                  Brazil\n",
      "148   149         \\njenniferaniston               85     40.8m       4.3m    104            0.024              949.1k      446.5m                     NaN\n",
      "149   150              \\nruben_onsu               75     40.7m     135.8k  10.0k            0.001               35.9k        1.4b               Indonesia\n",
      "150   151             \\nliverpoolfc               75     40.6m     339.7k   9.9k            0.005              204.4k        3.4b          United Kingdom\n",
      "151   152            \\nteddysphotos               80     40.6m     710.7k   2.3k            0.005              185.5k        1.7b           United States\n",
      "152   153         \\nprincessyahrini               81     40.5m     118.6k   4.5k            0.004              181.0k      535.5m               Indonesia\n",
      "153   154          \\nandresiniesta8               85     40.3m     250.8k   2.0k            0.004              161.7k      508.8m                   Spain\n",
      "154   155             \\naddisonraee               85     39.8m       3.1m    328            0.022              851.5k        1.0b                     NaN\n",
      "155   156         \\nnatashawilona12               84     39.7m     483.6k   1.2k            0.005              175.3k      568.2m                     NaN\n",
      "156   157                \\nmahi7781               58     39.5m       4.1m    107            0.002                   0      444.0m                     NaN\n",
      "157   158           \\nchrissyteigen               79     39.4m     623.1k   5.1k            0.004              162.1k        3.2b           United States\n",
      "158   159               \\nworldstar               78     39.2m     157.4k  11.6k            0.002               84.4k        1.8b           United States\n",
      "159   160             \\ngeorginagio               74     39.2m       2.2m    751            0.086                3.3m        1.7b                     NaN\n",
      "160   161              \\nwizkhalifa               80     39.1m     398.7k    514            0.003              115.7k      204.9m           United States\n",
      "161   162         \\nprattprattpratt               84     39.0m     813.5k    742            0.010              363.8k      603.6m                     NaN\n",
      "162   163            anushkasen0408               85     38.9m     687.3k   5.4k            0.013              483.8k        3.7b                     NaN\n",
      "163   164                      \\nhm               83     38.5m      86.4k   7.4k            0.000               17.5k      637.0m                  Sweden\n",
      "164   165           \\nmarvelstudios               83     38.4m     594.2k   2.8k            0.016              555.9k        1.7b                     NaN\n",
      "165   166                   \\nrkive               83     38.4m      10.6m    115            0.171                6.5m        1.2b                     NaN\n",
      "166   167         \\nparineetichopra               84     38.3m     504.8k   1.3k            0.011              431.8k      671.9m                     NaN\n",
      "167   168           \\nwesleysafadao               80     37.8m     250.9k   8.9k            0.002               77.8k        2.2b                     NaN\n",
      "168   169      \\nlaudyacynthiabella               76     37.3m     154.6k    397            0.001               46.4k       61.4m               Indonesia\n",
      "169   170                \\ngisel_la               85     36.8m     149.1k   9.9k            0.001               33.4k        1.5b                     NaN\n",
      "170   171           \\nantogriezmann               83     36.7m       1.1m    890            0.005              193.6k      936.6m                  France\n",
      "171   172                  \\neminem               84     36.6m     988.4k    691            0.011              382.5k      683.0m           United States\n",
      "172   173            \\nmercedesbenz               77     36.2m     197.9k  10.0k            0.002               64.6k        2.0b  British Virgin Islands\n",
      "173   174         \\nsachintendulkar               76     36.1m     800.4k   1.0k            0.020              664.5k      829.2m                     NaN\n",
      "174   175            \\nnattinatasha               47     36.1m     513.2k     59            0.006              201.6k       30.3m          Czech Republic\n",
      "175   176         \\nkimberly.loaiza               78     36.0m       2.6m    549            0.043                1.5m        1.4b                  Mexico\n",
      "176   177            \\nshahidkapoor               82     36.0m       1.3m   1.2k            0.025              780.0k        1.5b                     NaN\n",
      "177   178       \\ntigerjackieshroff               83     36.0m       1.0m   2.1k            0.010              345.3k        2.2b                   India\n",
      "178   179             \\nblakelively               80     35.9m       3.1m    120            0.040                1.4m      366.1m           United States\n",
      "179   180             \\ncolesprouse               81     35.8m       2.2m   1.2k            0.023              834.5k        2.6b                     NaN\n",
      "180   181            \\nsimonemendes               72     35.7m     419.7k   4.4k            0.006              216.6k        1.9b                  Brazil\n",
      "181   182                \\ntoni.krs               83     35.6m     597.8k    946            0.012              432.5k      565.5m                     NaN\n",
      "182   183                \\nlunamaya               83     35.4m     145.4k   4.1k            0.002               58.6k      594.0m                     NaN\n",
      "183   184             \\nbarackobama               81     35.4m       1.1m    682            0.012              411.5k      758.4m           United States\n",
      "184   185            \\nivetesangalo               84     35.1m     226.4k   7.7k            0.004              121.1k        1.7b                  Brazil\n",
      "185   186      \\npaollaoliveirareal               84     34.9m     352.0k   4.7k            0.004              132.9k        1.6b                     NaN\n",
      "186   187              \\ndannapaola               68     34.8m       1.5m   2.0k            0.035                1.2m        2.9b                  Mexico\n",
      "187   188                  \\ndisney               77     34.7m     185.2k   7.5k            0.004              132.0k        1.4b           United States\n",
      "188   189            \\nshaymitchell               83     34.5m     715.4k   6.3k            0.006              198.7k        4.5b           United States\n",
      "189   190         \\nadidasoriginals               83     34.1m     136.2k    180            0.002               66.8k       24.5m                     NaN\n",
      "190   191                  \\nzidane               41     34.0m       1.0m    377            0.017              578.4k      387.7m                  France\n",
      "191   192                     \\nbmw               79     33.8m     229.0k   9.4k            0.002               83.2k        2.2b                 Germany\n",
      "192   193               \\niambeckyg               71     33.8m     623.5k   2.3k            0.012              413.3k        1.4b           United States\n",
      "193   194       \\nrashmika_mandanna               84     33.8m       2.3m    525            0.044                1.5m        1.2b                     NaN\n",
      "194   195             \\nsonamkapoor               75     33.7m     265.3k   4.8k            0.008              256.2k        1.3b                   India\n",
      "195   196     \\nkhabib_nurmagomedov               63     33.6m     680.6k   4.6k            0.009              305.7k        3.1b                  Russia\n",
      "196   197            \\ndanbilzerian               84     33.6m       2.2m   1.4k            0.064                2.1m        3.0b                  Canada\n",
      "197   198               \\nraisa6690               80     33.6m     227.8k   4.2k            0.003              103.2k      955.9m               Indonesia\n",
      "198   199             \\nluansantana               79     33.5m     193.3k    865            0.003               82.6k      167.2m                  Brazil\n",
      "199   200              \\nnancyajram               81     33.4m     382.5k   3.8k            0.004              128.2k        1.5b                  France\n"
     ]
    }
   ],
   "source": [
    "import pandas as pd\n",
    "import seaborn as sbn\n",
    "import matplotlib.pyplot as plt\n",
    "\n",
    "\n",
    "df = pd.read_csv('influencers.csv')\n",
    "print(df.to_string())"
   ]
  },
  {
   "cell_type": "code",
   "execution_count": 25,
   "id": "42de1c0c",
   "metadata": {},
   "outputs": [
    {
     "data": {
      "text/plain": [
       "False"
      ]
     },
     "execution_count": 25,
     "metadata": {},
     "output_type": "execute_result"
    }
   ],
   "source": [
    "df.isnull().values.any()\n",
    "df.dropna(inplace = True)\n",
    "df.isnull().values.any()"
   ]
  },
  {
   "cell_type": "code",
   "execution_count": 26,
   "id": "5fb15829",
   "metadata": {},
   "outputs": [
    {
     "name": "stdout",
     "output_type": "stream",
     "text": [
      "     Influence Score Followers Avg. Likes  Posts Total Likes\n",
      "0                 92    485.2m       8.7m   3.4k       29.1b\n",
      "1                 91    370.7m       8.2m   7.0k       57.4b\n",
      "3                 93    348.8m       6.1m   1.9k       11.4b\n",
      "4                 91    339.4m       1.8m   6.8k       12.6b\n",
      "5                 92    333.0m       3.7m   5.0k       18.5b\n",
      "6                 91    330.7m       3.5m   5.7k       19.8b\n",
      "7                 92    276.1m       3.6m   2.0k        7.3b\n",
      "8                 89    273.9m       2.4m   4.1k        9.8b\n",
      "9                 91    260.0m       1.9m   7.4k       14.0b\n",
      "10                90    258.9m       5.5m    671        3.7b\n",
      "11                91    241.1m     298.9k  10.0k        3.0b\n",
      "12                90    239.2m     316.0k    973      307.5m\n",
      "13                91    226.1m       2.4m    542        1.3b\n",
      "14                89    223.1m       1.7m   3.2k        5.3b\n",
      "16                90    202.7m       2.0m   6.4k       12.9b\n",
      "17                89    199.4m       1.8m   4.4k        7.8b\n",
      "19                90    179.4m       2.7m   5.3k       14.4b\n",
      "21                88    154.2m     498.0k   8.3k        4.1b\n",
      "22                87    153.3m       5.9m   3.5k       20.8b\n",
      "23                75    141.3m       3.1m   1.6k        5.0b\n",
      "24                88    140.6m       1.1m    105      113.3m\n",
      "25                88    136.3m       3.7m   4.8k       18.0b\n",
      "27                90    125.8m     989.6k   7.1k        7.1b\n",
      "28                87    125.5m     412.7k  10.0k        4.1b\n",
      "29                85    121.4m       1.7m   5.2k        9.0b\n",
      "30                86    121.2m     450.0k   7.4k        3.4b\n",
      "33                85     88.0m       1.4m   1.7k        2.3b\n",
      "34                74     87.3m       2.1m   1.3k        2.7b\n",
      "35                88     83.2m       1.4m   1.8k        2.5b\n",
      "36                88     83.1m       1.2m   3.6k        4.3b\n",
      "37                85     82.7m       1.6m   3.6k        5.6b\n",
      "41                85     75.9m       2.4m   3.3k        7.9b\n",
      "42                86     75.4m       1.2m   1.6k        1.9b\n",
      "44                88     73.4m     144.8k   3.0k      432.0m\n",
      "46                84     71.4m       1.5m   2.3k        3.4b\n",
      "47                82     71.2m       1.8m   1.9k        3.3b\n",
      "48                87     71.1m     368.0k  12.8k        4.7b\n",
      "50                83     70.5m       3.5m   2.5k        8.8b\n",
      "51                85     70.2m       3.0m    549        1.6b\n",
      "52                83     69.3m       1.5m    285      434.6m\n",
      "53                78     68.1m     868.9k   3.0k        2.6b\n",
      "55                78     68.1m       4.1m   1.2k        5.0b\n",
      "56                87     67.9m       1.6m    379      622.7m\n",
      "57                85     67.5m       1.7m   1.0k        1.8b\n",
      "58                82     66.6m     330.5k   7.2k        2.4b\n",
      "59                87     66.5m     602.0k    785      472.6m\n",
      "60                77     65.4m       1.8m   2.9k        5.4b\n",
      "62                83     64.4m     386.2k   9.8k        3.8b\n",
      "63                85     63.6m       1.1m   2.4k        2.8b\n",
      "66                82     63.4m       1.4m   1.4k        1.9b\n",
      "67                82     63.3m     857.7k   5.1k        4.4b\n",
      "68                84     62.9m       1.2m   8.2k        9.7b\n",
      "69                86     62.7m     499.4k  10.1k        5.1b\n",
      "70                85     60.8m     390.0k   9.8k        3.8b\n",
      "72                86     59.0m     694.7k   2.7k        1.9b\n",
      "73                79     58.8m       1.6m   2.8k        4.4b\n",
      "74                80     58.6m       4.1m    290        1.2b\n",
      "75                42     58.3m     863.1k   2.0k        1.8b\n",
      "76                86     58.0m     662.0k  10.0k        6.6b\n",
      "77                83     56.8m       3.1m   3.3k       10.3b\n",
      "78                86     56.0m       2.6m    899        2.3b\n",
      "80                80     55.5m       1.4m   1.3k        1.8b\n",
      "81                86     55.2m       2.3m    669        1.5b\n",
      "83                79     55.1m       1.2m   3.2k        3.7b\n",
      "85                76     54.5m       1.4m   1.2k        1.7b\n",
      "86                86     54.3m     958.9k   5.6k        5.4b\n",
      "88                74     53.7m       1.6m   2.2k        3.4b\n",
      "90                83     53.3m       1.4m   3.6k        5.0b\n",
      "91                86     53.3m       2.8m    439        1.2b\n",
      "94                85     52.9m     144.9k  10.0k        1.5b\n",
      "95                79     51.9m     872.5k  10.4k        9.0b\n",
      "97                82     51.2m     180.9k   2.4k      442.2m\n",
      "99                76     51.0m     891.5k   2.7k        2.4b\n",
      "100               84     50.9m       4.7m    423        2.0b\n",
      "101               80     50.3m     351.2k   6.4k        2.3b\n",
      "102               86     50.0m       1.4m   1.1k        1.5b\n",
      "104               81     49.7m       2.4m   2.5k        6.1b\n",
      "105               84     49.6m     369.6k   6.5k        2.4b\n",
      "107               86     49.1m     115.1k   9.0k        1.0b\n",
      "109               82     48.9m     127.5k   6.6k      837.1m\n",
      "110               85     48.6m       1.6m    207      327.2m\n",
      "113               81     48.2m     696.6k   2.4k        1.6b\n",
      "115               57     47.6m       4.7m    618        2.9b\n",
      "116               84     47.4m     629.1k   4.2k        2.7b\n",
      "117               85     47.3m     575.0k   5.3k        3.0b\n",
      "118               82     47.3m       4.7m    165      783.5m\n",
      "119               78     46.5m       3.0m   3.2k        9.6b\n",
      "121               85     46.2m     155.4k  10.0k        1.6b\n",
      "122               82     46.2m       1.1m   3.2k        3.5b\n",
      "123               80     46.1m     650.0k     35       22.8m\n",
      "124               82     45.8m     189.9k  16.9k        3.2b\n",
      "126               85     45.4m     411.6k   1.8k      756.6m\n",
      "127               42     45.1m     550.6k   1.5k      829.8m\n",
      "130               84     44.4m       1.1m   1.9k        2.0b\n",
      "132               85     44.2m       1.6m    617      958.9m\n",
      "133               76     44.1m     475.1k   4.9k        2.3b\n",
      "135               81     43.5m     379.1k  10.0k        3.8b\n",
      "136               85     43.5m      63.5k   9.3k      590.9m\n",
      "137               84     43.4m     943.5k   3.0k        2.9b\n",
      "140               86     42.9m     790.7k   3.7k        3.0b\n",
      "141               83     42.5m       1.4m   1.7k        2.4b\n",
      "142               80     42.1m     511.2k   3.1k        1.6b\n",
      "143               73     41.8m       1.0m   1.5k        1.5b\n",
      "146               85     41.4m     986.9k   1.8k        1.8b\n",
      "147               81     41.1m     582.5k   2.1k        1.2b\n",
      "149               75     40.7m     135.8k  10.0k        1.4b\n",
      "150               75     40.6m     339.7k   9.9k        3.4b\n",
      "151               80     40.6m     710.7k   2.3k        1.7b\n",
      "152               81     40.5m     118.6k   4.5k      535.5m\n",
      "153               85     40.3m     250.8k   2.0k      508.8m\n",
      "157               79     39.4m     623.1k   5.1k        3.2b\n",
      "158               78     39.2m     157.4k  11.6k        1.8b\n",
      "160               80     39.1m     398.7k    514      204.9m\n",
      "163               83     38.5m      86.4k   7.4k      637.0m\n",
      "168               76     37.3m     154.6k    397       61.4m\n",
      "170               83     36.7m       1.1m    890      936.6m\n",
      "171               84     36.6m     988.4k    691      683.0m\n",
      "172               77     36.2m     197.9k  10.0k        2.0b\n",
      "174               47     36.1m     513.2k     59       30.3m\n",
      "175               78     36.0m       2.6m    549        1.4b\n",
      "177               83     36.0m       1.0m   2.1k        2.2b\n",
      "178               80     35.9m       3.1m    120      366.1m\n",
      "180               72     35.7m     419.7k   4.4k        1.9b\n",
      "183               81     35.4m       1.1m    682      758.4m\n",
      "184               84     35.1m     226.4k   7.7k        1.7b\n",
      "186               68     34.8m       1.5m   2.0k        2.9b\n",
      "187               77     34.7m     185.2k   7.5k        1.4b\n",
      "188               83     34.5m     715.4k   6.3k        4.5b\n",
      "190               41     34.0m       1.0m    377      387.7m\n",
      "191               79     33.8m     229.0k   9.4k        2.2b\n",
      "192               71     33.8m     623.5k   2.3k        1.4b\n",
      "194               75     33.7m     265.3k   4.8k        1.3b\n",
      "195               63     33.6m     680.6k   4.6k        3.1b\n",
      "196               84     33.6m       2.2m   1.4k        3.0b\n",
      "197               80     33.6m     227.8k   4.2k      955.9m\n",
      "198               79     33.5m     193.3k    865      167.2m\n",
      "199               81     33.4m     382.5k   3.8k        1.5b\n"
     ]
    }
   ],
   "source": [
    "df.drop(['Rank','Channel Info','60-Day Eng Rate','New Post Avg. Likes','Country Or Region'],axis=1,inplace=True)\n",
    "print(df.to_string())"
   ]
  },
  {
   "cell_type": "code",
   "execution_count": 27,
   "id": "ea4e73ca",
   "metadata": {},
   "outputs": [],
   "source": [
    "df[\"Followers\"] = df[\"Followers\"].replace({\"k\":\"*1e3\", \"m\":\"*1e6\", \"b\":\"*1e9\"}, regex=True).map(pd.eval).astype(int)\n",
    "df[\"Avg. Likes\"] = df[\"Avg. Likes\"].replace({\"k\":\"*1e3\", \"m\":\"*1e6\", \"b\":\"*1e9\"}, regex=True).map(pd.eval).astype(int)\n",
    "df[\"Posts\"] = df[\"Posts\"].replace({\"k\":\"*1e3\", \"m\":\"*1e6\", \"b\":\"*1e9\"}, regex=True).map(pd.eval).astype(int)\n",
    "df[\"Total Likes\"] = df[\"Total Likes\"].replace({\"k\":\"*1e3\", \"m\":\"*1e6\", \"b\":\"*1e9\"}, regex=True).map(pd.eval).astype(\"int64\")\n"
   ]
  },
  {
   "cell_type": "code",
   "execution_count": 28,
   "id": "30c50ae9",
   "metadata": {},
   "outputs": [
    {
     "name": "stdout",
     "output_type": "stream",
     "text": [
      "     Influence Score  Followers  Avg. Likes  Posts  Total Likes\n",
      "0                 92  485200000     8700000   3400  29100000000\n",
      "1                 91  370700000     8199999   7000  57400000000\n",
      "3                 93  348800000     6100000   1900  11400000000\n",
      "4                 91  339400000     1800000   6800  12600000000\n",
      "5                 92  333000000     3700000   5000  18500000000\n",
      "6                 91  330700000     3500000   5700  19800000000\n",
      "7                 92  276100000     3600000   2000   7300000000\n",
      "8                 89  273900000     2400000   4100   9800000000\n",
      "9                 91  260000000     1900000   7400  14000000000\n",
      "10                90  258899999     5500000    671   3700000000\n",
      "11                91  241100000      298900  10000   3000000000\n",
      "12                90  239200000      316000    973    307500000\n",
      "13                91  226100000     2400000    542   1300000000\n",
      "14                89  223100000     1700000   3200   5300000000\n",
      "16                90  202700000     2000000   6400  12900000000\n",
      "17                89  199400000     1800000   4400   7800000000\n",
      "19                90  179400000     2700000   5300  14400000000\n",
      "21                88  154200000      498000   8300   4099999999\n",
      "22                87  153300000     5900000   3500  20800000000\n",
      "23                75  141300000     3100000   1600   5000000000\n",
      "24                88  140600000     1100000    105    113300000\n",
      "25                88  136300000     3700000   4800  18000000000\n",
      "27                90  125800000      989600   7100   7100000000\n",
      "28                87  125500000      412700  10000   4099999999\n",
      "29                85  121400000     1700000   5200   9000000000\n",
      "30                86  121200000      450000   7400   3400000000\n",
      "33                85   88000000     1400000   1700   2300000000\n",
      "34                74   87300000     2100000   1300   2700000000\n",
      "35                88   83200000     1400000   1800   2500000000\n",
      "36                88   83100000     1200000   3600   4300000000\n",
      "37                85   82700000     1600000   3600   5600000000\n",
      "41                85   75900000     2400000   3300   7900000000\n",
      "42                86   75400000     1200000   1600   1900000000\n",
      "44                88   73400000      144800   3000    432000000\n",
      "46                84   71400000     1500000   2300   3400000000\n",
      "47                82   71200000     1800000   1900   3300000000\n",
      "48                87   71100000      368000  12800   4700000000\n",
      "50                83   70500000     3500000   2500   8800000000\n",
      "51                85   70200000     3000000    549   1600000000\n",
      "52                83   69300000     1500000    285    434600000\n",
      "53                78   68100000      868900   3000   2600000000\n",
      "55                78   68100000     4099999   1200   5000000000\n",
      "56                87   67900000     1600000    379    622700000\n",
      "57                85   67500000     1700000   1000   1800000000\n",
      "58                82   66599999      330500   7200   2400000000\n",
      "59                87   66500000      602000    785    472600000\n",
      "60                77   65400000     1800000   2900   5400000000\n",
      "62                83   64400000      386200   9800   3800000000\n",
      "63                85   63600000     1100000   2400   2800000000\n",
      "66                82   63400000     1400000   1400   1900000000\n",
      "67                82   63300000      857700   5100   4400000000\n",
      "68                84   62900000     1200000   8200   9700000000\n",
      "69                86   62700000      499400  10100   5100000000\n",
      "70                85   60800000      390000   9800   3800000000\n",
      "72                86   59000000      694700   2700   1900000000\n",
      "73                79   58800000     1600000   2800   4400000000\n",
      "74                80   58600000     4099999    290   1200000000\n",
      "75                42   58300000      863100   2000   1800000000\n",
      "76                86   58000000      662000  10000   6600000000\n",
      "77                83   56800000     3100000   3300  10300000000\n",
      "78                86   56000000     2600000    899   2300000000\n",
      "80                80   55500000     1400000   1300   1800000000\n",
      "81                86   55200000     2300000    669   1500000000\n",
      "83                79   55100000     1200000   3200   3700000000\n",
      "85                76   54500000     1400000   1200   1700000000\n",
      "86                86   54300000      958900   5600   5400000000\n",
      "88                74   53700000     1600000   2200   3400000000\n",
      "90                83   53300000     1400000   3600   5000000000\n",
      "91                86   53300000     2800000    439   1200000000\n",
      "94                85   52900000      144900  10000   1500000000\n",
      "95                79   51900000      872500  10400   9000000000\n",
      "97                82   51200000      180900   2400    442200000\n",
      "99                76   51000000      891500   2700   2400000000\n",
      "100               84   50900000     4700000    423   2000000000\n",
      "101               80   50300000      351200   6400   2300000000\n",
      "102               86   50000000     1400000   1100   1500000000\n",
      "104               81   49700000     2400000   2500   6100000000\n",
      "105               84   49600000      369600   6500   2400000000\n",
      "107               86   49100000      115100   9000   1000000000\n",
      "109               82   48900000      127500   6600    837100000\n",
      "110               85   48600000     1600000    207    327200000\n",
      "113               81   48200000      696600   2400   1600000000\n",
      "115               57   47600000     4700000    618   2900000000\n",
      "116               84   47400000      629100   4200   2700000000\n",
      "117               85   47300000      575000   5300   3000000000\n",
      "118               82   47300000     4700000    165    783500000\n",
      "119               78   46500000     3000000   3200   9600000000\n",
      "121               85   46200000      155400  10000   1600000000\n",
      "122               82   46200000     1100000   3200   3500000000\n",
      "123               80   46100000      650000     35     22800000\n",
      "124               82   45800000      189900  16900   3200000000\n",
      "126               85   45400000      411600   1800    756600000\n",
      "127               42   45100000      550600   1500    829800000\n",
      "130               84   44400000     1100000   1900   2000000000\n",
      "132               85   44200000     1600000    617    958900000\n",
      "133               76   44100000      475100   4900   2300000000\n",
      "135               81   43500000      379100  10000   3800000000\n",
      "136               85   43500000       63500   9300    590900000\n",
      "137               84   43400000      943500   3000   2900000000\n",
      "140               86   42900000      790700   3700   3000000000\n",
      "141               83   42500000     1400000   1700   2400000000\n",
      "142               80   42100000      511200   3100   1600000000\n",
      "143               73   41800000     1000000   1500   1500000000\n",
      "146               85   41400000      986900   1800   1800000000\n",
      "147               81   41100000      582500   2100   1200000000\n",
      "149               75   40700000      135800  10000   1400000000\n",
      "150               75   40600000      339700   9900   3400000000\n",
      "151               80   40600000      710700   2300   1700000000\n",
      "152               81   40500000      118600   4500    535500000\n",
      "153               85   40300000      250800   2000    508800000\n",
      "157               79   39400000      623100   5100   3200000000\n",
      "158               78   39200000      157400  11600   1800000000\n",
      "160               80   39100000      398700    514    204900000\n",
      "163               83   38500000       86400   7400    637000000\n",
      "168               76   37300000      154600    397     61400000\n",
      "170               83   36700000     1100000    890    936600000\n",
      "171               84   36600000      988400    691    683000000\n",
      "172               77   36200000      197900  10000   2000000000\n",
      "174               47   36100000      513200     59     30300000\n",
      "175               78   36000000     2600000    549   1400000000\n",
      "177               83   36000000     1000000   2100   2200000000\n",
      "178               80   35900000     3100000    120    366100000\n",
      "180               72   35700000      419700   4400   1900000000\n",
      "183               81   35400000     1100000    682    758400000\n",
      "184               84   35100000      226400   7700   1700000000\n",
      "186               68   34800000     1500000   2000   2900000000\n",
      "187               77   34700000      185200   7500   1400000000\n",
      "188               83   34500000      715400   6300   4500000000\n",
      "190               41   34000000     1000000    377    387700000\n",
      "191               79   33800000      229000   9400   2200000000\n",
      "192               71   33800000      623500   2300   1400000000\n",
      "194               75   33700000      265300   4800   1300000000\n",
      "195               63   33600000      680600   4600   3100000000\n",
      "196               84   33600000     2200000   1400   3000000000\n",
      "197               80   33600000      227800   4200    955900000\n",
      "198               79   33500000      193300    865    167200000\n",
      "199               81   33400000      382500   3800   1500000000\n"
     ]
    }
   ],
   "source": [
    "print(df.to_string())"
   ]
  },
  {
   "cell_type": "code",
   "execution_count": 29,
   "id": "35616351",
   "metadata": {},
   "outputs": [
    {
     "name": "stdout",
     "output_type": "stream",
     "text": [
      "count    1.370000e+02\n",
      "mean     8.520146e+07\n",
      "std      8.258396e+07\n",
      "min      3.340000e+07\n",
      "25%      4.180000e+07\n",
      "50%      5.330000e+07\n",
      "75%      7.140000e+07\n",
      "max      4.852000e+08\n",
      "Name: Followers, dtype: float64\n"
     ]
    }
   ],
   "source": [
    "print(df['Followers'].describe())"
   ]
  },
  {
   "cell_type": "code",
   "execution_count": 30,
   "id": "b4ca07f3",
   "metadata": {},
   "outputs": [
    {
     "name": "stdout",
     "output_type": "stream",
     "text": [
      "count    137.000000\n",
      "mean      81.678832\n",
      "std        8.747213\n",
      "min       41.000000\n",
      "25%       80.000000\n",
      "50%       83.000000\n",
      "75%       86.000000\n",
      "max       93.000000\n",
      "Name: Influence Score, dtype: float64\n"
     ]
    }
   ],
   "source": [
    "print(df['Influence Score'].describe())"
   ]
  },
  {
   "cell_type": "code",
   "execution_count": 31,
   "id": "d95f82a4",
   "metadata": {},
   "outputs": [
    {
     "name": "stdout",
     "output_type": "stream",
     "text": [
      "count    1.370000e+02\n",
      "mean     1.488024e+06\n",
      "std      1.538354e+06\n",
      "min      6.350000e+04\n",
      "25%      4.127000e+05\n",
      "50%      1.000000e+06\n",
      "75%      1.800000e+06\n",
      "max      8.700000e+06\n",
      "Name: Avg. Likes, dtype: float64\n"
     ]
    }
   ],
   "source": [
    "print(df['Avg. Likes'].describe())"
   ]
  },
  {
   "cell_type": "code",
   "execution_count": 32,
   "id": "a2fc7314",
   "metadata": {},
   "outputs": [
    {
     "name": "stdout",
     "output_type": "stream",
     "text": [
      "count      137.000000\n",
      "mean      3986.094891\n",
      "std       3391.164267\n",
      "min         35.000000\n",
      "25%       1400.000000\n",
      "50%       3000.000000\n",
      "75%       6300.000000\n",
      "max      16900.000000\n",
      "Name: Posts, dtype: float64\n"
     ]
    }
   ],
   "source": [
    "print(df[\"Posts\"].describe())"
   ]
  },
  {
   "cell_type": "code",
   "execution_count": 33,
   "id": "31798844",
   "metadata": {},
   "outputs": [
    {
     "name": "stdout",
     "output_type": "stream",
     "text": [
      "count    1.370000e+02\n",
      "mean     4.267624e+09\n",
      "std      6.475512e+09\n",
      "min      2.280000e+07\n",
      "25%      1.400000e+09\n",
      "50%      2.400000e+09\n",
      "75%      4.400000e+09\n",
      "max      5.740000e+10\n",
      "Name: Total Likes, dtype: float64\n"
     ]
    }
   ],
   "source": [
    "print(df[\"Total Likes\"].describe())"
   ]
  },
  {
   "cell_type": "code",
   "execution_count": 41,
   "id": "4e421f58",
   "metadata": {},
   "outputs": [
    {
     "data": {
      "text/html": [
       "<div>\n",
       "<style scoped>\n",
       "    .dataframe tbody tr th:only-of-type {\n",
       "        vertical-align: middle;\n",
       "    }\n",
       "\n",
       "    .dataframe tbody tr th {\n",
       "        vertical-align: top;\n",
       "    }\n",
       "\n",
       "    .dataframe thead th {\n",
       "        text-align: right;\n",
       "    }\n",
       "</style>\n",
       "<table border=\"1\" class=\"dataframe\">\n",
       "  <thead>\n",
       "    <tr style=\"text-align: right;\">\n",
       "      <th></th>\n",
       "      <th>Influence Score</th>\n",
       "      <th>Followers</th>\n",
       "      <th>Avg. Likes</th>\n",
       "      <th>Posts</th>\n",
       "      <th>Total Likes</th>\n",
       "    </tr>\n",
       "  </thead>\n",
       "  <tbody>\n",
       "    <tr>\n",
       "      <th>Influence Score</th>\n",
       "      <td>1.000000</td>\n",
       "      <td>0.442241</td>\n",
       "      <td>0.208166</td>\n",
       "      <td>0.174080</td>\n",
       "      <td>0.295035</td>\n",
       "    </tr>\n",
       "    <tr>\n",
       "      <th>Followers</th>\n",
       "      <td>0.442241</td>\n",
       "      <td>1.000000</td>\n",
       "      <td>0.607207</td>\n",
       "      <td>0.057784</td>\n",
       "      <td>0.693586</td>\n",
       "    </tr>\n",
       "    <tr>\n",
       "      <th>Avg. Likes</th>\n",
       "      <td>0.208166</td>\n",
       "      <td>0.607207</td>\n",
       "      <td>1.000000</td>\n",
       "      <td>-0.321193</td>\n",
       "      <td>0.669669</td>\n",
       "    </tr>\n",
       "    <tr>\n",
       "      <th>Posts</th>\n",
       "      <td>0.174080</td>\n",
       "      <td>0.057784</td>\n",
       "      <td>-0.321193</td>\n",
       "      <td>1.000000</td>\n",
       "      <td>0.194077</td>\n",
       "    </tr>\n",
       "    <tr>\n",
       "      <th>Total Likes</th>\n",
       "      <td>0.295035</td>\n",
       "      <td>0.693586</td>\n",
       "      <td>0.669669</td>\n",
       "      <td>0.194077</td>\n",
       "      <td>1.000000</td>\n",
       "    </tr>\n",
       "  </tbody>\n",
       "</table>\n",
       "</div>"
      ],
      "text/plain": [
       "                 Influence Score  Followers  Avg. Likes     Posts  Total Likes\n",
       "Influence Score         1.000000   0.442241    0.208166  0.174080     0.295035\n",
       "Followers               0.442241   1.000000    0.607207  0.057784     0.693586\n",
       "Avg. Likes              0.208166   0.607207    1.000000 -0.321193     0.669669\n",
       "Posts                   0.174080   0.057784   -0.321193  1.000000     0.194077\n",
       "Total Likes             0.295035   0.693586    0.669669  0.194077     1.000000"
      ]
     },
     "execution_count": 41,
     "metadata": {},
     "output_type": "execute_result"
    },
    {
     "data": {
      "image/png": "[encoded data removed]",
      "text/plain": [
       "<Figure size 1200x800 with 1 Axes>"
      ]
     },
     "metadata": {
      "needs_background": "light"
     },
     "output_type": "display_data"
    }
   ],
   "source": [
    "from matplotlib.pyplot import figure\n",
    "\n",
    "figure(figsize=(15, 10), dpi=80)\n",
    "\n",
    "ax = sbn.regplot(x = df['Followers'] , y = df['Influence Score'])\n",
    "\n",
    "ax.set_xlabel(\"Followers(Millions)\")\n",
    "ax.set_ylabel(\"Influence Score\")\n",
    "ax.set_title(\"Followers vs Influence\") \n",
    "df.corr()"
   ]
  },
  {
   "cell_type": "code",
   "execution_count": 42,
   "id": "b419887d",
   "metadata": {},
   "outputs": [
    {
     "data": {
      "text/plain": [
       "Text(0.5, 1.0, 'Avg. Likes vs Influence')"
      ]
     },
     "execution_count": 42,
     "metadata": {},
     "output_type": "execute_result"
    },
    {
     "data": {
      "image/png": "[encoded data removed]",
      "text/plain": [
       "<Figure size 1200x800 with 1 Axes>"
      ]
     },
     "metadata": {
      "needs_background": "light"
     },
     "output_type": "display_data"
    }
   ],
   "source": [
    "figure(figsize=(15, 10), dpi=80)\n",
    "ax= sbn.regplot(x = df['Avg. Likes'] , y = df['Influence Score'])\n",
    "\n",
    "ax.set_xlabel(\"Avg. Likes(Thousands)\")\n",
    "ax.set_ylabel(\"Influence Score\")\n",
    "ax.set_title(\"Avg. Likes vs Influence\") "
   ]
  },
  {
   "cell_type": "code",
   "execution_count": 119,
   "id": "0f699e0d",
   "metadata": {},
   "outputs": [
    {
     "data": {
      "text/plain": [
       "<AxesSubplot:xlabel='Total Likes', ylabel='Influence Score'>"
      ]
     },
     "execution_count": 119,
     "metadata": {},
     "output_type": "execute_result"
    },
    {
     "data": {
      "image/png": "[encoded data removed]",
      "text/plain": [
       "<Figure size 432x288 with 1 Axes>"
      ]
     },
     "metadata": {
      "needs_background": "light"
     },
     "output_type": "display_data"
    }
   ],
   "source": [
    "sbn.regplot(x = df['Total Likes'] , y = df['Influence Score'])"
   ]
  },
  {
   "cell_type": "code",
   "execution_count": 120,
   "id": "8ee8d42f",
   "metadata": {},
   "outputs": [
    {
     "data": {
      "text/plain": [
       "<AxesSubplot:xlabel='Posts', ylabel='Influence Score'>"
      ]
     },
     "execution_count": 120,
     "metadata": {},
     "output_type": "execute_result"
    },
    {
     "data": {
      "image/png": "[encoded data removed]",
      "text/plain": [
       "<Figure size 432x288 with 1 Axes>"
      ]
     },
     "metadata": {
      "needs_background": "light"
     },
     "output_type": "display_data"
    }
   ],
   "source": [
    "sbn.regplot(x = df['Posts'] , y = df['Influence Score'])"
   ]
  },
  {
   "cell_type": "code",
   "execution_count": null,
   "id": "37d5cb7c",
   "metadata": {},
   "outputs": [],
   "source": []
  }
 ],
 "metadata": {
  "kernelspec": {
   "display_name": "Python 3 (ipykernel)",
   "language": "python",
   "name": "python3"
  },
  "language_info": {
   "codemirror_mode": {
    "name": "ipython",
    "version": 3
   },
   "file_extension": ".py",
   "mimetype": "text/x-python",
   "name": "python",
   "nbconvert_exporter": "python",
   "pygments_lexer": "ipython3",
   "version": "3.9.12"
  }
 },
 "nbformat": 4,
 "nbformat_minor": 5
}
