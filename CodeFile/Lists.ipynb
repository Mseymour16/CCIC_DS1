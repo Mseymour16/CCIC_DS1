{
 "cells": [
  {
   "cell_type": "code",
   "execution_count": 1,
   "id": "c0f1532b",
   "metadata": {},
   "outputs": [
    {
     "name": "stdout",
     "output_type": "stream",
     "text": [
      "['eggs', 'fries', 'squash']\n"
     ]
    }
   ],
   "source": [
    "foods = [\"pancakes\", \"fries\", \"mac and cheese\"]\n",
    "foods[0]=\"eggs\"\n",
    "foods[len(foods)-1] =\"squash\"\n",
    "print(foods)"
   ]
  },
  {
   "cell_type": "code",
   "execution_count": 2,
   "id": "2caf10d0",
   "metadata": {},
   "outputs": [
    {
     "name": "stdout",
     "output_type": "stream",
     "text": [
      "4.2\n"
     ]
    }
   ],
   "source": [
    "studentData = [[\"Student\",\"Height\",\"Weight\",\"Age\"],\n",
    "               [\"Ellie\", 4.6, 60, 10],\n",
    "               [\"Sofia\", 4.9, 75, 11],\n",
    "               [\"Jesus\", 5.0, 80, 10],\n",
    "               [\"Jamal\", 4.2, 45, 10],\n",
    "               [\"Poppy\", 5.1, 80, 11]]\n",
    "print(studentData[4][1])"
   ]
  },
  {
   "cell_type": "code",
   "execution_count": null,
   "id": "615c3051",
   "metadata": {},
   "outputs": [],
   "source": []
  },
  {
   "cell_type": "code",
   "execution_count": null,
   "id": "42c5a837",
   "metadata": {},
   "outputs": [],
   "source": []
  }
 ],
 "metadata": {
  "kernelspec": {
   "display_name": "Python 3 (ipykernel)",
   "language": "python",
   "name": "python3"
  },
  "language_info": {
   "codemirror_mode": {
    "name": "ipython",
    "version": 3
   },
   "file_extension": ".py",
   "mimetype": "text/x-python",
   "name": "python",
   "nbconvert_exporter": "python",
   "pygments_lexer": "ipython3",
   "version": "3.11.2"
  }
 },
 "nbformat": 4,
 "nbformat_minor": 5
}
